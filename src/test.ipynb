{
 "cells": [
  {
   "cell_type": "code",
   "execution_count": 90,
   "id": "fcc98c6a",
   "metadata": {},
   "outputs": [],
   "source": [
    "import numpy as np\n",
    "import tensorflow as tf\n",
    "from tensorflow import keras\n",
    "from tensorflow.keras import layers\n",
    "from tensorflow.keras.datasets import cifar10\n",
    "from sklearn.model_selection import train_test_split\n",
    "from sklearn.metrics import f1_score\n",
    "import matplotlib.pyplot as plt\n",
    "from datasets import load_dataset\n",
    "import warnings\n",
    "import pandas as pd\n",
    "warnings.filterwarnings('ignore')\n",
    "from cnn import CNNFromScratch, build_cnn_from_keras, test_implementation_consistency, calculate_macro_f1_score\n",
    "from rnn import RNNModelFromScratch, train_keras_model as train_rnn_model, compare_implementations as compare_rnn\n",
    "from lstm import LSTMFromScratch, create_lstm_model, train_model as train_lstm_model, compare_implementations as compare_lstm"
   ]
  },
  {
   "cell_type": "code",
   "execution_count": 91,
   "id": "4c95e212",
   "metadata": {},
   "outputs": [],
   "source": [
    "# load cifar\n",
    "(x_train_full, y_train_full), (x_test, y_test) = cifar10.load_data()\n",
    "x_train_full = x_train_full.astype('float32') / 255.0\n",
    "x_test = x_test.astype('float32') / 255.0\n",
    "y_train_full = y_train_full.flatten()\n",
    "y_test = y_test.flatten()"
   ]
  },
  {
   "cell_type": "code",
   "execution_count": 92,
   "id": "bf2b4cc2",
   "metadata": {},
   "outputs": [],
   "source": [
    "# split data\n",
    "x_train, x_val, y_train, y_val = train_test_split(x_train_full, y_train_full,test_size=0.2, random_state=42)"
   ]
  },
  {
   "cell_type": "code",
   "execution_count": 93,
   "id": "668e6a4e",
   "metadata": {},
   "outputs": [],
   "source": [
    "def create_cnn_model(conv_layers=3, filters_list=[32, 64, 128], filter_sizes=[(3,3), (3,3), (3,3)], pooling='max'):\n",
    "    model = keras.Sequential([\n",
    "        layers.Input(shape=(32, 32, 3))\n",
    "    ])\n",
    "    \n",
    "    for i in range(conv_layers):\n",
    "        filters = filters_list[i] if i < len(filters_list) else filters_list[-1]\n",
    "        kernel = filter_sizes[i] if i < len(filter_sizes) else filter_sizes[-1]\n",
    "        \n",
    "        model.add(layers.Conv2D(filters, kernel, activation='relu', padding='same'))\n",
    "        if pooling == 'max':\n",
    "            model.add(layers.MaxPooling2D((2, 2)))\n",
    "        else:\n",
    "            model.add(layers.AveragePooling2D((2, 2)))\n",
    "    model.add(layers.Flatten())\n",
    "    model.add(layers.Dense(128, activation='relu'))\n",
    "    model.add(layers.Dense(10, activation='softmax'))\n",
    "    \n",
    "    model.compile(optimizer='adam', loss='sparse_categorical_crossentropy', metrics=['accuracy'])\n",
    "    return model"
   ]
  },
  {
   "cell_type": "code",
   "execution_count": 94,
   "id": "8df9d998",
   "metadata": {},
   "outputs": [],
   "source": [
    "def train_cnn(model, epochs=5):\n",
    "    history = model.fit(x_train, y_train, batch_size=32, epochs=epochs, validation_data=(x_val, y_val), verbose=1)\n",
    "    pred = model.predict(x_test)\n",
    "    pred_classes = np.argmax(pred, axis=1)\n",
    "    f1 = calculate_macro_f1_score(y_test, pred_classes)\n",
    "    return history, f1"
   ]
  },
  {
   "cell_type": "code",
   "execution_count": 95,
   "id": "4dae968f",
   "metadata": {},
   "outputs": [
    {
     "name": "stdout",
     "output_type": "stream",
     "text": [
      "Testing: Jumlah Layer Konvolusi\n",
      "\n",
      "Training dengan 2 layers...\n",
      "Epoch 1/5\n",
      "\u001b[1m1250/1250\u001b[0m \u001b[32m━━━━━━━━━━━━━━━━━━━━\u001b[0m\u001b[37m\u001b[0m \u001b[1m18s\u001b[0m 14ms/step - accuracy: 0.4061 - loss: 1.6474 - val_accuracy: 0.6062 - val_loss: 1.1344\n",
      "Epoch 2/5\n",
      "\u001b[1m1250/1250\u001b[0m \u001b[32m━━━━━━━━━━━━━━━━━━━━\u001b[0m\u001b[37m\u001b[0m \u001b[1m16s\u001b[0m 13ms/step - accuracy: 0.6205 - loss: 1.0756 - val_accuracy: 0.6573 - val_loss: 0.9815\n",
      "Epoch 3/5\n",
      "\u001b[1m1250/1250\u001b[0m \u001b[32m━━━━━━━━━━━━━━━━━━━━\u001b[0m\u001b[37m\u001b[0m \u001b[1m16s\u001b[0m 13ms/step - accuracy: 0.6874 - loss: 0.8981 - val_accuracy: 0.6648 - val_loss: 0.9545\n",
      "Epoch 4/5\n",
      "\u001b[1m1250/1250\u001b[0m \u001b[32m━━━━━━━━━━━━━━━━━━━━\u001b[0m\u001b[37m\u001b[0m \u001b[1m16s\u001b[0m 13ms/step - accuracy: 0.7278 - loss: 0.7844 - val_accuracy: 0.6925 - val_loss: 0.8831\n",
      "Epoch 5/5\n",
      "\u001b[1m1250/1250\u001b[0m \u001b[32m━━━━━━━━━━━━━━━━━━━━\u001b[0m\u001b[37m\u001b[0m \u001b[1m15s\u001b[0m 12ms/step - accuracy: 0.7603 - loss: 0.6790 - val_accuracy: 0.6880 - val_loss: 0.9089\n",
      "\u001b[1m313/313\u001b[0m \u001b[32m━━━━━━━━━━━━━━━━━━━━\u001b[0m\u001b[37m\u001b[0m \u001b[1m1s\u001b[0m 4ms/step\n"
     ]
    },
    {
     "name": "stderr",
     "output_type": "stream",
     "text": [
      "WARNING:absl:You are saving your model as an HDF5 file via `model.save()` or `keras.saving.save_model(model)`. This file format is considered legacy. We recommend using instead the native Keras format, e.g. `model.save('my_model.keras')` or `keras.saving.save_model(model, 'my_model.keras')`. \n"
     ]
    },
    {
     "name": "stdout",
     "output_type": "stream",
     "text": [
      "F1-Score: 0.6816\n",
      "\n",
      "Training dengan 3 layers...\n",
      "Epoch 1/5\n",
      "\u001b[1m1250/1250\u001b[0m \u001b[32m━━━━━━━━━━━━━━━━━━━━\u001b[0m\u001b[37m\u001b[0m \u001b[1m23s\u001b[0m 17ms/step - accuracy: 0.3780 - loss: 1.6911 - val_accuracy: 0.5875 - val_loss: 1.1582\n",
      "Epoch 2/5\n",
      "\u001b[1m1250/1250\u001b[0m \u001b[32m━━━━━━━━━━━━━━━━━━━━\u001b[0m\u001b[37m\u001b[0m \u001b[1m20s\u001b[0m 16ms/step - accuracy: 0.6318 - loss: 1.0501 - val_accuracy: 0.6805 - val_loss: 0.9176\n",
      "Epoch 3/5\n",
      "\u001b[1m1250/1250\u001b[0m \u001b[32m━━━━━━━━━━━━━━━━━━━━\u001b[0m\u001b[37m\u001b[0m \u001b[1m20s\u001b[0m 16ms/step - accuracy: 0.7024 - loss: 0.8486 - val_accuracy: 0.7094 - val_loss: 0.8269\n",
      "Epoch 4/5\n",
      "\u001b[1m1250/1250\u001b[0m \u001b[32m━━━━━━━━━━━━━━━━━━━━\u001b[0m\u001b[37m\u001b[0m \u001b[1m20s\u001b[0m 16ms/step - accuracy: 0.7516 - loss: 0.7136 - val_accuracy: 0.7209 - val_loss: 0.8161\n",
      "Epoch 5/5\n",
      "\u001b[1m1250/1250\u001b[0m \u001b[32m━━━━━━━━━━━━━━━━━━━━\u001b[0m\u001b[37m\u001b[0m \u001b[1m18s\u001b[0m 15ms/step - accuracy: 0.7884 - loss: 0.6073 - val_accuracy: 0.7292 - val_loss: 0.7737\n",
      "\u001b[1m313/313\u001b[0m \u001b[32m━━━━━━━━━━━━━━━━━━━━\u001b[0m\u001b[37m\u001b[0m \u001b[1m1s\u001b[0m 4ms/step\n"
     ]
    },
    {
     "name": "stderr",
     "output_type": "stream",
     "text": [
      "WARNING:absl:You are saving your model as an HDF5 file via `model.save()` or `keras.saving.save_model(model)`. This file format is considered legacy. We recommend using instead the native Keras format, e.g. `model.save('my_model.keras')` or `keras.saving.save_model(model, 'my_model.keras')`. \n"
     ]
    },
    {
     "name": "stdout",
     "output_type": "stream",
     "text": [
      "F1-Score: 0.7238\n",
      "\n",
      "Training dengan 4 layers...\n",
      "Epoch 1/5\n",
      "\u001b[1m1250/1250\u001b[0m \u001b[32m━━━━━━━━━━━━━━━━━━━━\u001b[0m\u001b[37m\u001b[0m \u001b[1m25s\u001b[0m 19ms/step - accuracy: 0.3370 - loss: 1.7837 - val_accuracy: 0.5587 - val_loss: 1.2073\n",
      "Epoch 2/5\n",
      "\u001b[1m1250/1250\u001b[0m \u001b[32m━━━━━━━━━━━━━━━━━━━━\u001b[0m\u001b[37m\u001b[0m \u001b[1m24s\u001b[0m 19ms/step - accuracy: 0.6020 - loss: 1.1134 - val_accuracy: 0.6351 - val_loss: 1.0284\n",
      "Epoch 3/5\n",
      "\u001b[1m1250/1250\u001b[0m \u001b[32m━━━━━━━━━━━━━━━━━━━━\u001b[0m\u001b[37m\u001b[0m \u001b[1m23s\u001b[0m 18ms/step - accuracy: 0.6858 - loss: 0.8833 - val_accuracy: 0.6943 - val_loss: 0.8684\n",
      "Epoch 4/5\n",
      "\u001b[1m1250/1250\u001b[0m \u001b[32m━━━━━━━━━━━━━━━━━━━━\u001b[0m\u001b[37m\u001b[0m \u001b[1m23s\u001b[0m 19ms/step - accuracy: 0.7379 - loss: 0.7458 - val_accuracy: 0.7253 - val_loss: 0.8052\n",
      "Epoch 5/5\n",
      "\u001b[1m1250/1250\u001b[0m \u001b[32m━━━━━━━━━━━━━━━━━━━━\u001b[0m\u001b[37m\u001b[0m \u001b[1m21s\u001b[0m 17ms/step - accuracy: 0.7727 - loss: 0.6442 - val_accuracy: 0.7137 - val_loss: 0.8579\n",
      "\u001b[1m313/313\u001b[0m \u001b[32m━━━━━━━━━━━━━━━━━━━━\u001b[0m\u001b[37m\u001b[0m \u001b[1m2s\u001b[0m 5ms/step\n"
     ]
    },
    {
     "name": "stderr",
     "output_type": "stream",
     "text": [
      "WARNING:absl:You are saving your model as an HDF5 file via `model.save()` or `keras.saving.save_model(model)`. This file format is considered legacy. We recommend using instead the native Keras format, e.g. `model.save('my_model.keras')` or `keras.saving.save_model(model, 'my_model.keras')`. \n"
     ]
    },
    {
     "name": "stdout",
     "output_type": "stream",
     "text": [
      "F1-Score: 0.6924\n"
     ]
    }
   ],
   "source": [
    "# pengaruh jumlah layer\n",
    "print(\"Testing: Jumlah Layer Konvolusi\")\n",
    "layer_results = {}\n",
    "\n",
    "for num_layers in [2, 3, 4]:\n",
    "    print(f\"\\nTraining dengan {num_layers} layers...\")\n",
    "    model = create_cnn_model(conv_layers=num_layers)\n",
    "    history, f1 = train_cnn(model)\n",
    "    layer_results[num_layers] = {'f1': f1, 'history': history}\n",
    "    model.save(f'test_result/cnn/cnn_{num_layers}_layers.h5')\n",
    "    print(f\"F1-Score: {f1:.4f}\")"
   ]
  },
  {
   "cell_type": "code",
   "execution_count": 96,
   "id": "7ffd59e3",
   "metadata": {},
   "outputs": [
    {
     "name": "stdout",
     "output_type": "stream",
     "text": [
      "\n",
      "Testing: Jumlah Filter per Layer\n",
      "\n",
      "Training dengan filters: [16, 32, 64]...\n",
      "Epoch 1/5\n",
      "\u001b[1m1250/1250\u001b[0m \u001b[32m━━━━━━━━━━━━━━━━━━━━\u001b[0m\u001b[37m\u001b[0m \u001b[1m10s\u001b[0m 8ms/step - accuracy: 0.3694 - loss: 1.7104 - val_accuracy: 0.5921 - val_loss: 1.1594\n",
      "Epoch 2/5\n",
      "\u001b[1m1250/1250\u001b[0m \u001b[32m━━━━━━━━━━━━━━━━━━━━\u001b[0m\u001b[37m\u001b[0m \u001b[1m9s\u001b[0m 8ms/step - accuracy: 0.6106 - loss: 1.1125 - val_accuracy: 0.6258 - val_loss: 1.0670\n",
      "Epoch 3/5\n",
      "\u001b[1m1250/1250\u001b[0m \u001b[32m━━━━━━━━━━━━━━━━━━━━\u001b[0m\u001b[37m\u001b[0m \u001b[1m9s\u001b[0m 7ms/step - accuracy: 0.6725 - loss: 0.9349 - val_accuracy: 0.6624 - val_loss: 0.9585\n",
      "Epoch 4/5\n",
      "\u001b[1m1250/1250\u001b[0m \u001b[32m━━━━━━━━━━━━━━━━━━━━\u001b[0m\u001b[37m\u001b[0m \u001b[1m9s\u001b[0m 7ms/step - accuracy: 0.7165 - loss: 0.8156 - val_accuracy: 0.6916 - val_loss: 0.8675\n",
      "Epoch 5/5\n",
      "\u001b[1m1250/1250\u001b[0m \u001b[32m━━━━━━━━━━━━━━━━━━━━\u001b[0m\u001b[37m\u001b[0m \u001b[1m9s\u001b[0m 7ms/step - accuracy: 0.7392 - loss: 0.7420 - val_accuracy: 0.6984 - val_loss: 0.8656\n",
      "\u001b[1m313/313\u001b[0m \u001b[32m━━━━━━━━━━━━━━━━━━━━\u001b[0m\u001b[37m\u001b[0m \u001b[1m1s\u001b[0m 2ms/step\n"
     ]
    },
    {
     "name": "stderr",
     "output_type": "stream",
     "text": [
      "WARNING:absl:You are saving your model as an HDF5 file via `model.save()` or `keras.saving.save_model(model)`. This file format is considered legacy. We recommend using instead the native Keras format, e.g. `model.save('my_model.keras')` or `keras.saving.save_model(model, 'my_model.keras')`. \n"
     ]
    },
    {
     "name": "stdout",
     "output_type": "stream",
     "text": [
      "F1-Score: 0.6919\n",
      "\n",
      "Training dengan filters: [32, 64, 128]...\n",
      "Epoch 1/5\n",
      "\u001b[1m1250/1250\u001b[0m \u001b[32m━━━━━━━━━━━━━━━━━━━━\u001b[0m\u001b[37m\u001b[0m \u001b[1m19s\u001b[0m 15ms/step - accuracy: 0.3754 - loss: 1.6992 - val_accuracy: 0.6069 - val_loss: 1.1043\n",
      "Epoch 2/5\n",
      "\u001b[1m1250/1250\u001b[0m \u001b[32m━━━━━━━━━━━━━━━━━━━━\u001b[0m\u001b[37m\u001b[0m \u001b[1m19s\u001b[0m 15ms/step - accuracy: 0.6352 - loss: 1.0300 - val_accuracy: 0.6778 - val_loss: 0.9220\n",
      "Epoch 3/5\n",
      "\u001b[1m1250/1250\u001b[0m \u001b[32m━━━━━━━━━━━━━━━━━━━━\u001b[0m\u001b[37m\u001b[0m \u001b[1m19s\u001b[0m 15ms/step - accuracy: 0.7097 - loss: 0.8253 - val_accuracy: 0.6937 - val_loss: 0.8828\n",
      "Epoch 4/5\n",
      "\u001b[1m1250/1250\u001b[0m \u001b[32m━━━━━━━━━━━━━━━━━━━━\u001b[0m\u001b[37m\u001b[0m \u001b[1m19s\u001b[0m 15ms/step - accuracy: 0.7577 - loss: 0.6970 - val_accuracy: 0.7331 - val_loss: 0.7724\n",
      "Epoch 5/5\n",
      "\u001b[1m1250/1250\u001b[0m \u001b[32m━━━━━━━━━━━━━━━━━━━━\u001b[0m\u001b[37m\u001b[0m \u001b[1m19s\u001b[0m 15ms/step - accuracy: 0.7911 - loss: 0.6027 - val_accuracy: 0.7495 - val_loss: 0.7556\n",
      "\u001b[1m313/313\u001b[0m \u001b[32m━━━━━━━━━━━━━━━━━━━━\u001b[0m\u001b[37m\u001b[0m \u001b[1m1s\u001b[0m 4ms/step\n"
     ]
    },
    {
     "name": "stderr",
     "output_type": "stream",
     "text": [
      "WARNING:absl:You are saving your model as an HDF5 file via `model.save()` or `keras.saving.save_model(model)`. This file format is considered legacy. We recommend using instead the native Keras format, e.g. `model.save('my_model.keras')` or `keras.saving.save_model(model, 'my_model.keras')`. \n"
     ]
    },
    {
     "name": "stdout",
     "output_type": "stream",
     "text": [
      "F1-Score: 0.7388\n",
      "\n",
      "Training dengan filters: [64, 128, 256]...\n",
      "Epoch 1/5\n",
      "\u001b[1m1250/1250\u001b[0m \u001b[32m━━━━━━━━━━━━━━━━━━━━\u001b[0m\u001b[37m\u001b[0m \u001b[1m50s\u001b[0m 40ms/step - accuracy: 0.3551 - loss: 1.7504 - val_accuracy: 0.5771 - val_loss: 1.1778\n",
      "Epoch 2/5\n",
      "\u001b[1m1250/1250\u001b[0m \u001b[32m━━━━━━━━━━━━━━━━━━━━\u001b[0m\u001b[37m\u001b[0m \u001b[1m50s\u001b[0m 40ms/step - accuracy: 0.6274 - loss: 1.0616 - val_accuracy: 0.6781 - val_loss: 0.9203\n",
      "Epoch 3/5\n",
      "\u001b[1m1250/1250\u001b[0m \u001b[32m━━━━━━━━━━━━━━━━━━━━\u001b[0m\u001b[37m\u001b[0m \u001b[1m54s\u001b[0m 43ms/step - accuracy: 0.7067 - loss: 0.8343 - val_accuracy: 0.7040 - val_loss: 0.8408\n",
      "Epoch 4/5\n",
      "\u001b[1m1250/1250\u001b[0m \u001b[32m━━━━━━━━━━━━━━━━━━━━\u001b[0m\u001b[37m\u001b[0m \u001b[1m53s\u001b[0m 42ms/step - accuracy: 0.7566 - loss: 0.6985 - val_accuracy: 0.7238 - val_loss: 0.8009\n",
      "Epoch 5/5\n",
      "\u001b[1m1250/1250\u001b[0m \u001b[32m━━━━━━━━━━━━━━━━━━━━\u001b[0m\u001b[37m\u001b[0m \u001b[1m52s\u001b[0m 42ms/step - accuracy: 0.7970 - loss: 0.5825 - val_accuracy: 0.7380 - val_loss: 0.7913\n",
      "\u001b[1m313/313\u001b[0m \u001b[32m━━━━━━━━━━━━━━━━━━━━\u001b[0m\u001b[37m\u001b[0m \u001b[1m4s\u001b[0m 12ms/step\n"
     ]
    },
    {
     "name": "stderr",
     "output_type": "stream",
     "text": [
      "WARNING:absl:You are saving your model as an HDF5 file via `model.save()` or `keras.saving.save_model(model)`. This file format is considered legacy. We recommend using instead the native Keras format, e.g. `model.save('my_model.keras')` or `keras.saving.save_model(model, 'my_model.keras')`. \n"
     ]
    },
    {
     "name": "stdout",
     "output_type": "stream",
     "text": [
      "F1-Score: 0.7323\n"
     ]
    }
   ],
   "source": [
    "# variasi jumlah filter\n",
    "print(\"\\nTesting: Jumlah Filter per Layer\")\n",
    "filter_results = {}\n",
    "filter_configs = [[16, 32, 64], [32, 64, 128], [64, 128, 256]]\n",
    "\n",
    "for i, filters in enumerate(filter_configs):\n",
    "    print(f\"\\nTraining dengan filters: {filters}...\")\n",
    "    model = create_cnn_model(filters_list=filters)\n",
    "    history, f1 = train_cnn(model)\n",
    "    filter_results[str(filters)] = {'f1': f1, 'history': history}\n",
    "    model.save(f'test_result/cnn/cnn_filters_{i}.h5')\n",
    "    print(f\"F1-Score: {f1:.4f}\")"
   ]
  },
  {
   "cell_type": "code",
   "execution_count": 97,
   "id": "bf859761",
   "metadata": {},
   "outputs": [
    {
     "name": "stdout",
     "output_type": "stream",
     "text": [
      "\n",
      "Testing: Ukuran Filter\n",
      "\n",
      "Training dengan sizes: [(3, 3), (3, 3), (3, 3)]...\n",
      "Epoch 1/5\n",
      "\u001b[1m1250/1250\u001b[0m \u001b[32m━━━━━━━━━━━━━━━━━━━━\u001b[0m\u001b[37m\u001b[0m \u001b[1m21s\u001b[0m 16ms/step - accuracy: 0.3688 - loss: 1.7245 - val_accuracy: 0.6062 - val_loss: 1.1093\n",
      "Epoch 2/5\n",
      "\u001b[1m1250/1250\u001b[0m \u001b[32m━━━━━━━━━━━━━━━━━━━━\u001b[0m\u001b[37m\u001b[0m \u001b[1m20s\u001b[0m 16ms/step - accuracy: 0.6210 - loss: 1.0720 - val_accuracy: 0.6465 - val_loss: 1.0079\n",
      "Epoch 3/5\n",
      "\u001b[1m1250/1250\u001b[0m \u001b[32m━━━━━━━━━━━━━━━━━━━━\u001b[0m\u001b[37m\u001b[0m \u001b[1m20s\u001b[0m 16ms/step - accuracy: 0.6991 - loss: 0.8646 - val_accuracy: 0.6785 - val_loss: 0.9172\n",
      "Epoch 4/5\n",
      "\u001b[1m1250/1250\u001b[0m \u001b[32m━━━━━━━━━━━━━━━━━━━━\u001b[0m\u001b[37m\u001b[0m \u001b[1m21s\u001b[0m 17ms/step - accuracy: 0.7448 - loss: 0.7308 - val_accuracy: 0.7153 - val_loss: 0.8242\n",
      "Epoch 5/5\n",
      "\u001b[1m1250/1250\u001b[0m \u001b[32m━━━━━━━━━━━━━━━━━━━━\u001b[0m\u001b[37m\u001b[0m \u001b[1m21s\u001b[0m 17ms/step - accuracy: 0.7831 - loss: 0.6201 - val_accuracy: 0.7198 - val_loss: 0.8501\n",
      "\u001b[1m313/313\u001b[0m \u001b[32m━━━━━━━━━━━━━━━━━━━━\u001b[0m\u001b[37m\u001b[0m \u001b[1m2s\u001b[0m 5ms/step\n"
     ]
    },
    {
     "name": "stderr",
     "output_type": "stream",
     "text": [
      "WARNING:absl:You are saving your model as an HDF5 file via `model.save()` or `keras.saving.save_model(model)`. This file format is considered legacy. We recommend using instead the native Keras format, e.g. `model.save('my_model.keras')` or `keras.saving.save_model(model, 'my_model.keras')`. \n"
     ]
    },
    {
     "name": "stdout",
     "output_type": "stream",
     "text": [
      "F1-Score: 0.7123\n",
      "\n",
      "Training dengan sizes: [(5, 5), (3, 3), (3, 3)]...\n",
      "Epoch 1/5\n",
      "\u001b[1m1250/1250\u001b[0m \u001b[32m━━━━━━━━━━━━━━━━━━━━\u001b[0m\u001b[37m\u001b[0m \u001b[1m29s\u001b[0m 22ms/step - accuracy: 0.3631 - loss: 1.7384 - val_accuracy: 0.5603 - val_loss: 1.2249\n",
      "Epoch 2/5\n",
      "\u001b[1m1250/1250\u001b[0m \u001b[32m━━━━━━━━━━━━━━━━━━━━\u001b[0m\u001b[37m\u001b[0m \u001b[1m22s\u001b[0m 18ms/step - accuracy: 0.5942 - loss: 1.1370 - val_accuracy: 0.6388 - val_loss: 1.0087\n",
      "Epoch 3/5\n",
      "\u001b[1m1250/1250\u001b[0m \u001b[32m━━━━━━━━━━━━━━━━━━━━\u001b[0m\u001b[37m\u001b[0m \u001b[1m21s\u001b[0m 17ms/step - accuracy: 0.6770 - loss: 0.9167 - val_accuracy: 0.6571 - val_loss: 0.9999\n",
      "Epoch 4/5\n",
      "\u001b[1m1250/1250\u001b[0m \u001b[32m━━━━━━━━━━━━━━━━━━━━\u001b[0m\u001b[37m\u001b[0m \u001b[1m22s\u001b[0m 17ms/step - accuracy: 0.7309 - loss: 0.7642 - val_accuracy: 0.6972 - val_loss: 0.8810\n",
      "Epoch 5/5\n",
      "\u001b[1m1250/1250\u001b[0m \u001b[32m━━━━━━━━━━━━━━━━━━━━\u001b[0m\u001b[37m\u001b[0m \u001b[1m22s\u001b[0m 17ms/step - accuracy: 0.7676 - loss: 0.6638 - val_accuracy: 0.6997 - val_loss: 0.8746\n",
      "\u001b[1m313/313\u001b[0m \u001b[32m━━━━━━━━━━━━━━━━━━━━\u001b[0m\u001b[37m\u001b[0m \u001b[1m2s\u001b[0m 5ms/step\n"
     ]
    },
    {
     "name": "stderr",
     "output_type": "stream",
     "text": [
      "WARNING:absl:You are saving your model as an HDF5 file via `model.save()` or `keras.saving.save_model(model)`. This file format is considered legacy. We recommend using instead the native Keras format, e.g. `model.save('my_model.keras')` or `keras.saving.save_model(model, 'my_model.keras')`. \n"
     ]
    },
    {
     "name": "stdout",
     "output_type": "stream",
     "text": [
      "F1-Score: 0.6921\n",
      "\n",
      "Training dengan sizes: [(7, 7), (5, 5), (3, 3)]...\n",
      "Epoch 1/5\n",
      "\u001b[1m1250/1250\u001b[0m \u001b[32m━━━━━━━━━━━━━━━━━━━━\u001b[0m\u001b[37m\u001b[0m \u001b[1m36s\u001b[0m 28ms/step - accuracy: 0.3363 - loss: 1.7978 - val_accuracy: 0.5164 - val_loss: 1.3538\n",
      "Epoch 2/5\n",
      "\u001b[1m1250/1250\u001b[0m \u001b[32m━━━━━━━━━━━━━━━━━━━━\u001b[0m\u001b[37m\u001b[0m \u001b[1m36s\u001b[0m 28ms/step - accuracy: 0.5505 - loss: 1.2600 - val_accuracy: 0.6079 - val_loss: 1.1229\n",
      "Epoch 3/5\n",
      "\u001b[1m1250/1250\u001b[0m \u001b[32m━━━━━━━━━━━━━━━━━━━━\u001b[0m\u001b[37m\u001b[0m \u001b[1m36s\u001b[0m 28ms/step - accuracy: 0.6379 - loss: 1.0280 - val_accuracy: 0.6389 - val_loss: 1.0438\n",
      "Epoch 4/5\n",
      "\u001b[1m1250/1250\u001b[0m \u001b[32m━━━━━━━━━━━━━━━━━━━━\u001b[0m\u001b[37m\u001b[0m \u001b[1m36s\u001b[0m 29ms/step - accuracy: 0.6894 - loss: 0.8802 - val_accuracy: 0.6519 - val_loss: 1.0141\n",
      "Epoch 5/5\n",
      "\u001b[1m1250/1250\u001b[0m \u001b[32m━━━━━━━━━━━━━━━━━━━━\u001b[0m\u001b[37m\u001b[0m \u001b[1m36s\u001b[0m 29ms/step - accuracy: 0.7417 - loss: 0.7424 - val_accuracy: 0.6681 - val_loss: 1.0014\n",
      "\u001b[1m313/313\u001b[0m \u001b[32m━━━━━━━━━━━━━━━━━━━━\u001b[0m\u001b[37m\u001b[0m \u001b[1m3s\u001b[0m 9ms/step\n"
     ]
    },
    {
     "name": "stderr",
     "output_type": "stream",
     "text": [
      "WARNING:absl:You are saving your model as an HDF5 file via `model.save()` or `keras.saving.save_model(model)`. This file format is considered legacy. We recommend using instead the native Keras format, e.g. `model.save('my_model.keras')` or `keras.saving.save_model(model, 'my_model.keras')`. \n"
     ]
    },
    {
     "name": "stdout",
     "output_type": "stream",
     "text": [
      "F1-Score: 0.6636\n"
     ]
    }
   ],
   "source": [
    "# variasi ukuran filter\n",
    "print(\"\\nTesting: Ukuran Filter\")\n",
    "size_results = {}\n",
    "\n",
    "size_configs = [[(3,3), (3,3), (3,3)], [(5,5), (3,3), (3,3)], [(7,7), (5,5), (3,3)]]\n",
    "\n",
    "for i, sizes in enumerate(size_configs):\n",
    "    print(f\"\\nTraining dengan sizes: {sizes}...\")\n",
    "    model = create_cnn_model(filter_sizes=sizes)\n",
    "    history, f1 = train_cnn(model)\n",
    "    size_results[str(sizes)] = {'f1': f1, 'history': history}\n",
    "    model.save(f'cnn_sizes_{i}.h5')\n",
    "    print(f\"F1-Score: {f1:.4f}\")"
   ]
  },
  {
   "cell_type": "code",
   "execution_count": 98,
   "id": "10302e40",
   "metadata": {},
   "outputs": [
    {
     "name": "stdout",
     "output_type": "stream",
     "text": [
      "\n",
      "Testing: Jenis Pooling\n",
      "\n",
      "Training dengan max pooling...\n",
      "Epoch 1/5\n",
      "\u001b[1m1250/1250\u001b[0m \u001b[32m━━━━━━━━━━━━━━━━━━━━\u001b[0m\u001b[37m\u001b[0m \u001b[1m22s\u001b[0m 17ms/step - accuracy: 0.3754 - loss: 1.6990 - val_accuracy: 0.5854 - val_loss: 1.1719\n",
      "Epoch 2/5\n",
      "\u001b[1m1250/1250\u001b[0m \u001b[32m━━━━━━━━━━━━━━━━━━━━\u001b[0m\u001b[37m\u001b[0m \u001b[1m21s\u001b[0m 17ms/step - accuracy: 0.6194 - loss: 1.0827 - val_accuracy: 0.6608 - val_loss: 0.9471\n",
      "Epoch 3/5\n",
      "\u001b[1m1250/1250\u001b[0m \u001b[32m━━━━━━━━━━━━━━━━━━━━\u001b[0m\u001b[37m\u001b[0m \u001b[1m22s\u001b[0m 18ms/step - accuracy: 0.6894 - loss: 0.8829 - val_accuracy: 0.6930 - val_loss: 0.8818\n",
      "Epoch 4/5\n",
      "\u001b[1m1250/1250\u001b[0m \u001b[32m━━━━━━━━━━━━━━━━━━━━\u001b[0m\u001b[37m\u001b[0m \u001b[1m21s\u001b[0m 17ms/step - accuracy: 0.7406 - loss: 0.7431 - val_accuracy: 0.6825 - val_loss: 0.9151\n",
      "Epoch 5/5\n",
      "\u001b[1m1250/1250\u001b[0m \u001b[32m━━━━━━━━━━━━━━━━━━━━\u001b[0m\u001b[37m\u001b[0m \u001b[1m21s\u001b[0m 17ms/step - accuracy: 0.7771 - loss: 0.6368 - val_accuracy: 0.7015 - val_loss: 0.8825\n",
      "\u001b[1m313/313\u001b[0m \u001b[32m━━━━━━━━━━━━━━━━━━━━\u001b[0m\u001b[37m\u001b[0m \u001b[1m2s\u001b[0m 5ms/step\n"
     ]
    },
    {
     "name": "stderr",
     "output_type": "stream",
     "text": [
      "WARNING:absl:You are saving your model as an HDF5 file via `model.save()` or `keras.saving.save_model(model)`. This file format is considered legacy. We recommend using instead the native Keras format, e.g. `model.save('my_model.keras')` or `keras.saving.save_model(model, 'my_model.keras')`. \n"
     ]
    },
    {
     "name": "stdout",
     "output_type": "stream",
     "text": [
      "F1-Score: 0.6912\n",
      "\n",
      "Training dengan average pooling...\n",
      "Epoch 1/5\n",
      "\u001b[1m1250/1250\u001b[0m \u001b[32m━━━━━━━━━━━━━━━━━━━━\u001b[0m\u001b[37m\u001b[0m \u001b[1m20s\u001b[0m 15ms/step - accuracy: 0.3538 - loss: 1.7605 - val_accuracy: 0.5540 - val_loss: 1.2502\n",
      "Epoch 2/5\n",
      "\u001b[1m1250/1250\u001b[0m \u001b[32m━━━━━━━━━━━━━━━━━━━━\u001b[0m\u001b[37m\u001b[0m \u001b[1m20s\u001b[0m 16ms/step - accuracy: 0.5691 - loss: 1.2043 - val_accuracy: 0.6299 - val_loss: 1.0509\n",
      "Epoch 3/5\n",
      "\u001b[1m1250/1250\u001b[0m \u001b[32m━━━━━━━━━━━━━━━━━━━━\u001b[0m\u001b[37m\u001b[0m \u001b[1m19s\u001b[0m 15ms/step - accuracy: 0.6504 - loss: 1.0009 - val_accuracy: 0.6743 - val_loss: 0.9298\n",
      "Epoch 4/5\n",
      "\u001b[1m1250/1250\u001b[0m \u001b[32m━━━━━━━━━━━━━━━━━━━━\u001b[0m\u001b[37m\u001b[0m \u001b[1m20s\u001b[0m 16ms/step - accuracy: 0.6899 - loss: 0.8786 - val_accuracy: 0.6844 - val_loss: 0.8891\n",
      "Epoch 5/5\n",
      "\u001b[1m1250/1250\u001b[0m \u001b[32m━━━━━━━━━━━━━━━━━━━━\u001b[0m\u001b[37m\u001b[0m \u001b[1m19s\u001b[0m 16ms/step - accuracy: 0.7302 - loss: 0.7652 - val_accuracy: 0.7225 - val_loss: 0.8034\n",
      "\u001b[1m313/313\u001b[0m \u001b[32m━━━━━━━━━━━━━━━━━━━━\u001b[0m\u001b[37m\u001b[0m \u001b[1m2s\u001b[0m 5ms/step\n"
     ]
    },
    {
     "name": "stderr",
     "output_type": "stream",
     "text": [
      "WARNING:absl:You are saving your model as an HDF5 file via `model.save()` or `keras.saving.save_model(model)`. This file format is considered legacy. We recommend using instead the native Keras format, e.g. `model.save('my_model.keras')` or `keras.saving.save_model(model, 'my_model.keras')`. \n"
     ]
    },
    {
     "name": "stdout",
     "output_type": "stream",
     "text": [
      "F1-Score: 0.7096\n"
     ]
    }
   ],
   "source": [
    "# variasi jenis pooling\n",
    "\n",
    "print(\"\\nTesting: Jenis Pooling\")\n",
    "pooling_results = {}\n",
    "\n",
    "for pooling in ['max', 'average']:\n",
    "    print(f\"\\nTraining dengan {pooling} pooling...\")\n",
    "    model = create_cnn_model(pooling=pooling)\n",
    "    history, f1 = train_cnn(model)\n",
    "    pooling_results[pooling] = {'f1': f1, 'history': history}\n",
    "    model.save(f'test_result/cnn/cnn_{pooling}_pooling.h5')\n",
    "    print(f\"F1-Score: {f1:.4f}\")"
   ]
  },
  {
   "cell_type": "code",
   "execution_count": 99,
   "id": "2a0a996b",
   "metadata": {},
   "outputs": [
    {
     "name": "stdout",
     "output_type": "stream",
     "text": [
      "\n",
      "Testing CNN From Scratch Implementation\n"
     ]
    },
    {
     "name": "stderr",
     "output_type": "stream",
     "text": [
      "WARNING:absl:Compiled the loaded model, but the compiled metrics have yet to be built. `model.compile_metrics` will be empty until you train or evaluate the model.\n",
      "WARNING:absl:Compiled the loaded model, but the compiled metrics have yet to be built. `model.compile_metrics` will be empty until you train or evaluate the model.\n"
     ]
    },
    {
     "name": "stdout",
     "output_type": "stream",
     "text": [
      "\u001b[1m4/4\u001b[0m \u001b[32m━━━━━━━━━━━━━━━━━━━━\u001b[0m\u001b[37m\u001b[0m \u001b[1m0s\u001b[0m 16ms/step\n",
      "Keras F1: 0.7225\n",
      "Scratch F1: 0.7225\n",
      "Implementation Accuracy: 1.0000\n"
     ]
    }
   ],
   "source": [
    "# CNN From Scratch Testing\n",
    "print(\"\\nTesting CNN From Scratch Implementation\")\n",
    "best_model_path = 'test_result/cnn/cnn_3_layers.h5'\n",
    "\n",
    "test_results = test_implementation_consistency(best_model_path, (x_test, y_test), num_samples=100)\n",
    "\n",
    "print(f\"Keras F1: {test_results['keras_f1']:.4f}\")\n",
    "print(f\"Scratch F1: {test_results['scratch_f1']:.4f}\")\n",
    "print(f\"Implementation Accuracy: {test_results['implementation_accuracy']:.4f}\")"
   ]
  },
  {
   "cell_type": "code",
   "execution_count": 100,
   "id": "e1c98a8f",
   "metadata": {},
   "outputs": [],
   "source": [
    "# load data\n",
    "train_data = pd.read_csv('NusaX_data/train.csv')\n",
    "valid_data = pd.read_csv('NusaX_data/valid.csv')\n",
    "test_data = pd.read_csv('NusaX_data/test.csv')\n",
    "\n",
    "train_texts = train_data['text'].tolist()\n",
    "train_labels = train_data['label'].tolist()"
   ]
  },
  {
   "cell_type": "code",
   "execution_count": 101,
   "id": "8d37fd90",
   "metadata": {},
   "outputs": [],
   "source": [
    "# split data\n",
    "rnn_train_texts, rnn_test_texts, rnn_train_labels, rnn_test_labels = train_test_split(train_texts, train_labels, test_size=0.2, random_state=42)"
   ]
  },
  {
   "cell_type": "code",
   "execution_count": 102,
   "id": "d92d742a",
   "metadata": {},
   "outputs": [
    {
     "name": "stdout",
     "output_type": "stream",
     "text": [
      "Token shapes - Train: (400, 100), Test: (100, 100)\n"
     ]
    }
   ],
   "source": [
    "from sklearn.preprocessing import LabelEncoder\n",
    "label_encoder = LabelEncoder()\n",
    "rnn_train_labels = label_encoder.fit_transform(rnn_train_labels)\n",
    "rnn_test_labels = label_encoder.transform(rnn_test_labels)\n",
    "\n",
    "vectorizer = layers.TextVectorization(max_tokens=10000, output_sequence_length=100)\n",
    "vectorizer.adapt(rnn_train_texts)\n",
    "\n",
    "rnn_train_tokens = vectorizer(rnn_train_texts).numpy()\n",
    "rnn_test_tokens = vectorizer(rnn_test_texts).numpy()\n",
    "\n",
    "print(f\"Token shapes - Train: {rnn_train_tokens.shape}, Test: {rnn_test_tokens.shape}\")"
   ]
  },
  {
   "cell_type": "code",
   "execution_count": 103,
   "id": "de342b0f",
   "metadata": {},
   "outputs": [],
   "source": [
    "def create_rnn_model(rnn_layers=[64], bidirectional=False, vocab_size=10000, embedding_dim=128):\n",
    "    model = keras.Sequential()\n",
    "    model.add(layers.Input(shape=(100,)))\n",
    "    model.add(layers.Embedding(vocab_size, embedding_dim, mask_zero=True))\n",
    "\n",
    "    for i, units in enumerate(rnn_layers):\n",
    "        return_sequences = (i < len(rnn_layers) - 1)\n",
    "        if bidirectional:\n",
    "            model.add(layers.Bidirectional(\n",
    "                layers.SimpleRNN(units, return_sequences=return_sequences, dropout=0.2)\n",
    "            ))\n",
    "        else:\n",
    "            model.add(layers.SimpleRNN(units, return_sequences=return_sequences, dropout=0.2))\n",
    "        model.add(layers.Dropout(0.3))\n",
    "    model.add(layers.Dense(3, activation='softmax'))\n",
    "    model.compile(optimizer='adam', loss='sparse_categorical_crossentropy', metrics=['accuracy'])\n",
    "    return model"
   ]
  },
  {
   "cell_type": "code",
   "execution_count": 104,
   "id": "1336bff3",
   "metadata": {},
   "outputs": [],
   "source": [
    "def train_rnn_model_fixed(model, epochs=15):\n",
    "    history = model.fit(\n",
    "        rnn_train_tokens, rnn_train_labels,  # Use TOKENS, not text\n",
    "        validation_data=(rnn_test_tokens, rnn_test_labels),\n",
    "        epochs=epochs, batch_size=64, verbose=1\n",
    "    )\n",
    "    \n",
    "    pred = model.predict(rnn_test_tokens)\n",
    "    pred_classes = np.argmax(pred, axis=1)\n",
    "    f1 = f1_score(rnn_test_labels, pred_classes, average='macro')\n",
    "    return history, f1"
   ]
  },
  {
   "cell_type": "code",
   "execution_count": 105,
   "id": "f838dd6b",
   "metadata": {},
   "outputs": [
    {
     "name": "stdout",
     "output_type": "stream",
     "text": [
      "Testing: Jumlah Layer RNN\n",
      "\n",
      "Training RNN dengan 1 layers...\n",
      "Epoch 1/15\n",
      "\u001b[1m7/7\u001b[0m \u001b[32m━━━━━━━━━━━━━━━━━━━━\u001b[0m\u001b[37m\u001b[0m \u001b[1m6s\u001b[0m 63ms/step - accuracy: 0.4054 - loss: 1.0786 - val_accuracy: 0.4500 - val_loss: 1.0193\n",
      "Epoch 2/15\n",
      "\u001b[1m7/7\u001b[0m \u001b[32m━━━━━━━━━━━━━━━━━━━━\u001b[0m\u001b[37m\u001b[0m \u001b[1m0s\u001b[0m 32ms/step - accuracy: 0.5802 - loss: 0.8712 - val_accuracy: 0.5300 - val_loss: 0.9935\n",
      "Epoch 3/15\n",
      "\u001b[1m7/7\u001b[0m \u001b[32m━━━━━━━━━━━━━━━━━━━━\u001b[0m\u001b[37m\u001b[0m \u001b[1m0s\u001b[0m 33ms/step - accuracy: 0.8956 - loss: 0.6714 - val_accuracy: 0.6100 - val_loss: 0.9152\n",
      "Epoch 4/15\n",
      "\u001b[1m7/7\u001b[0m \u001b[32m━━━━━━━━━━━━━━━━━━━━\u001b[0m\u001b[37m\u001b[0m \u001b[1m0s\u001b[0m 31ms/step - accuracy: 0.9734 - loss: 0.4543 - val_accuracy: 0.5800 - val_loss: 0.8989\n",
      "Epoch 5/15\n",
      "\u001b[1m7/7\u001b[0m \u001b[32m━━━━━━━━━━━━━━━━━━━━\u001b[0m\u001b[37m\u001b[0m \u001b[1m0s\u001b[0m 30ms/step - accuracy: 0.9959 - loss: 0.2569 - val_accuracy: 0.6200 - val_loss: 0.8382\n",
      "Epoch 6/15\n",
      "\u001b[1m7/7\u001b[0m \u001b[32m━━━━━━━━━━━━━━━━━━━━\u001b[0m\u001b[37m\u001b[0m \u001b[1m0s\u001b[0m 31ms/step - accuracy: 1.0000 - loss: 0.1468 - val_accuracy: 0.5700 - val_loss: 0.9088\n",
      "Epoch 7/15\n",
      "\u001b[1m7/7\u001b[0m \u001b[32m━━━━━━━━━━━━━━━━━━━━\u001b[0m\u001b[37m\u001b[0m \u001b[1m0s\u001b[0m 31ms/step - accuracy: 0.9987 - loss: 0.0817 - val_accuracy: 0.5700 - val_loss: 0.9065\n",
      "Epoch 8/15\n",
      "\u001b[1m7/7\u001b[0m \u001b[32m━━━━━━━━━━━━━━━━━━━━\u001b[0m\u001b[37m\u001b[0m \u001b[1m0s\u001b[0m 45ms/step - accuracy: 1.0000 - loss: 0.0486 - val_accuracy: 0.5500 - val_loss: 0.9494\n",
      "Epoch 9/15\n",
      "\u001b[1m7/7\u001b[0m \u001b[32m━━━━━━━━━━━━━━━━━━━━\u001b[0m\u001b[37m\u001b[0m \u001b[1m0s\u001b[0m 29ms/step - accuracy: 1.0000 - loss: 0.0297 - val_accuracy: 0.5500 - val_loss: 1.0025\n",
      "Epoch 10/15\n",
      "\u001b[1m7/7\u001b[0m \u001b[32m━━━━━━━━━━━━━━━━━━━━\u001b[0m\u001b[37m\u001b[0m \u001b[1m0s\u001b[0m 30ms/step - accuracy: 1.0000 - loss: 0.0221 - val_accuracy: 0.5600 - val_loss: 1.0137\n",
      "Epoch 11/15\n",
      "\u001b[1m7/7\u001b[0m \u001b[32m━━━━━━━━━━━━━━━━━━━━\u001b[0m\u001b[37m\u001b[0m \u001b[1m0s\u001b[0m 29ms/step - accuracy: 1.0000 - loss: 0.0182 - val_accuracy: 0.5400 - val_loss: 1.0058\n",
      "Epoch 12/15\n",
      "\u001b[1m7/7\u001b[0m \u001b[32m━━━━━━━━━━━━━━━━━━━━\u001b[0m\u001b[37m\u001b[0m \u001b[1m0s\u001b[0m 30ms/step - accuracy: 1.0000 - loss: 0.0137 - val_accuracy: 0.5700 - val_loss: 1.0135\n",
      "Epoch 13/15\n",
      "\u001b[1m7/7\u001b[0m \u001b[32m━━━━━━━━━━━━━━━━━━━━\u001b[0m\u001b[37m\u001b[0m \u001b[1m0s\u001b[0m 29ms/step - accuracy: 1.0000 - loss: 0.0112 - val_accuracy: 0.5700 - val_loss: 1.0271\n",
      "Epoch 14/15\n",
      "\u001b[1m7/7\u001b[0m \u001b[32m━━━━━━━━━━━━━━━━━━━━\u001b[0m\u001b[37m\u001b[0m \u001b[1m0s\u001b[0m 31ms/step - accuracy: 1.0000 - loss: 0.0113 - val_accuracy: 0.5800 - val_loss: 1.0434\n",
      "Epoch 15/15\n",
      "\u001b[1m7/7\u001b[0m \u001b[32m━━━━━━━━━━━━━━━━━━━━\u001b[0m\u001b[37m\u001b[0m \u001b[1m0s\u001b[0m 30ms/step - accuracy: 1.0000 - loss: 0.0086 - val_accuracy: 0.5700 - val_loss: 1.0442\n",
      "\u001b[1m4/4\u001b[0m \u001b[32m━━━━━━━━━━━━━━━━━━━━\u001b[0m\u001b[37m\u001b[0m \u001b[1m0s\u001b[0m 35ms/step\n"
     ]
    },
    {
     "name": "stderr",
     "output_type": "stream",
     "text": [
      "WARNING:absl:You are saving your model as an HDF5 file via `model.save()` or `keras.saving.save_model(model)`. This file format is considered legacy. We recommend using instead the native Keras format, e.g. `model.save('my_model.keras')` or `keras.saving.save_model(model, 'my_model.keras')`. \n"
     ]
    },
    {
     "name": "stdout",
     "output_type": "stream",
     "text": [
      "F1-Score: 0.5604\n",
      "\n",
      "Training RNN dengan 2 layers...\n",
      "Epoch 1/15\n",
      "\u001b[1m7/7\u001b[0m \u001b[32m━━━━━━━━━━━━━━━━━━━━\u001b[0m\u001b[37m\u001b[0m \u001b[1m2s\u001b[0m 97ms/step - accuracy: 0.3689 - loss: 1.1399 - val_accuracy: 0.5300 - val_loss: 0.9881\n",
      "Epoch 2/15\n",
      "\u001b[1m7/7\u001b[0m \u001b[32m━━━━━━━━━━━━━━━━━━━━\u001b[0m\u001b[37m\u001b[0m \u001b[1m0s\u001b[0m 48ms/step - accuracy: 0.5305 - loss: 0.9118 - val_accuracy: 0.4900 - val_loss: 0.9266\n",
      "Epoch 3/15\n",
      "\u001b[1m7/7\u001b[0m \u001b[32m━━━━━━━━━━━━━━━━━━━━\u001b[0m\u001b[37m\u001b[0m \u001b[1m0s\u001b[0m 49ms/step - accuracy: 0.7108 - loss: 0.7475 - val_accuracy: 0.5800 - val_loss: 0.8619\n",
      "Epoch 4/15\n",
      "\u001b[1m7/7\u001b[0m \u001b[32m━━━━━━━━━━━━━━━━━━━━\u001b[0m\u001b[37m\u001b[0m \u001b[1m0s\u001b[0m 47ms/step - accuracy: 0.8283 - loss: 0.5577 - val_accuracy: 0.5700 - val_loss: 0.9163\n",
      "Epoch 5/15\n",
      "\u001b[1m7/7\u001b[0m \u001b[32m━━━━━━━━━━━━━━━━━━━━\u001b[0m\u001b[37m\u001b[0m \u001b[1m0s\u001b[0m 47ms/step - accuracy: 0.9384 - loss: 0.2956 - val_accuracy: 0.6100 - val_loss: 0.8529\n",
      "Epoch 6/15\n",
      "\u001b[1m7/7\u001b[0m \u001b[32m━━━━━━━━━━━━━━━━━━━━\u001b[0m\u001b[37m\u001b[0m \u001b[1m0s\u001b[0m 48ms/step - accuracy: 0.9727 - loss: 0.1787 - val_accuracy: 0.6000 - val_loss: 0.8823\n",
      "Epoch 7/15\n",
      "\u001b[1m7/7\u001b[0m \u001b[32m━━━━━━━━━━━━━━━━━━━━\u001b[0m\u001b[37m\u001b[0m \u001b[1m0s\u001b[0m 47ms/step - accuracy: 0.9911 - loss: 0.0999 - val_accuracy: 0.5900 - val_loss: 0.9376\n",
      "Epoch 8/15\n",
      "\u001b[1m7/7\u001b[0m \u001b[32m━━━━━━━━━━━━━━━━━━━━\u001b[0m\u001b[37m\u001b[0m \u001b[1m0s\u001b[0m 48ms/step - accuracy: 0.9946 - loss: 0.0546 - val_accuracy: 0.5700 - val_loss: 1.0386\n",
      "Epoch 9/15\n",
      "\u001b[1m7/7\u001b[0m \u001b[32m━━━━━━━━━━━━━━━━━━━━\u001b[0m\u001b[37m\u001b[0m \u001b[1m0s\u001b[0m 46ms/step - accuracy: 1.0000 - loss: 0.0346 - val_accuracy: 0.5800 - val_loss: 1.0615\n",
      "Epoch 10/15\n",
      "\u001b[1m7/7\u001b[0m \u001b[32m━━━━━━━━━━━━━━━━━━━━\u001b[0m\u001b[37m\u001b[0m \u001b[1m0s\u001b[0m 47ms/step - accuracy: 1.0000 - loss: 0.0234 - val_accuracy: 0.5800 - val_loss: 1.0881\n",
      "Epoch 11/15\n",
      "\u001b[1m7/7\u001b[0m \u001b[32m━━━━━━━━━━━━━━━━━━━━\u001b[0m\u001b[37m\u001b[0m \u001b[1m0s\u001b[0m 47ms/step - accuracy: 1.0000 - loss: 0.0156 - val_accuracy: 0.5800 - val_loss: 1.1434\n",
      "Epoch 12/15\n",
      "\u001b[1m7/7\u001b[0m \u001b[32m━━━━━━━━━━━━━━━━━━━━\u001b[0m\u001b[37m\u001b[0m \u001b[1m0s\u001b[0m 48ms/step - accuracy: 1.0000 - loss: 0.0121 - val_accuracy: 0.5900 - val_loss: 1.1853\n",
      "Epoch 13/15\n",
      "\u001b[1m7/7\u001b[0m \u001b[32m━━━━━━━━━━━━━━━━━━━━\u001b[0m\u001b[37m\u001b[0m \u001b[1m0s\u001b[0m 48ms/step - accuracy: 1.0000 - loss: 0.0121 - val_accuracy: 0.5900 - val_loss: 1.2017\n",
      "Epoch 14/15\n",
      "\u001b[1m7/7\u001b[0m \u001b[32m━━━━━━━━━━━━━━━━━━━━\u001b[0m\u001b[37m\u001b[0m \u001b[1m0s\u001b[0m 62ms/step - accuracy: 1.0000 - loss: 0.0102 - val_accuracy: 0.5900 - val_loss: 1.2139\n",
      "Epoch 15/15\n",
      "\u001b[1m7/7\u001b[0m \u001b[32m━━━━━━━━━━━━━━━━━━━━\u001b[0m\u001b[37m\u001b[0m \u001b[1m0s\u001b[0m 50ms/step - accuracy: 1.0000 - loss: 0.0071 - val_accuracy: 0.5900 - val_loss: 1.2348\n",
      "\u001b[1m4/4\u001b[0m \u001b[32m━━━━━━━━━━━━━━━━━━━━\u001b[0m\u001b[37m\u001b[0m \u001b[1m0s\u001b[0m 52ms/step\n"
     ]
    },
    {
     "name": "stderr",
     "output_type": "stream",
     "text": [
      "WARNING:absl:You are saving your model as an HDF5 file via `model.save()` or `keras.saving.save_model(model)`. This file format is considered legacy. We recommend using instead the native Keras format, e.g. `model.save('my_model.keras')` or `keras.saving.save_model(model, 'my_model.keras')`. \n"
     ]
    },
    {
     "name": "stdout",
     "output_type": "stream",
     "text": [
      "F1-Score: 0.5768\n",
      "\n",
      "Training RNN dengan 3 layers...\n",
      "Epoch 1/15\n",
      "\u001b[1m7/7\u001b[0m \u001b[32m━━━━━━━━━━━━━━━━━━━━\u001b[0m\u001b[37m\u001b[0m \u001b[1m2s\u001b[0m 107ms/step - accuracy: 0.3653 - loss: 1.2992 - val_accuracy: 0.4800 - val_loss: 1.0197\n",
      "Epoch 2/15\n",
      "\u001b[1m7/7\u001b[0m \u001b[32m━━━━━━━━━━━━━━━━━━━━\u001b[0m\u001b[37m\u001b[0m \u001b[1m0s\u001b[0m 67ms/step - accuracy: 0.4946 - loss: 1.1092 - val_accuracy: 0.5100 - val_loss: 0.9898\n",
      "Epoch 3/15\n",
      "\u001b[1m7/7\u001b[0m \u001b[32m━━━━━━━━━━━━━━━━━━━━\u001b[0m\u001b[37m\u001b[0m \u001b[1m0s\u001b[0m 67ms/step - accuracy: 0.6534 - loss: 0.7558 - val_accuracy: 0.5300 - val_loss: 0.9998\n",
      "Epoch 4/15\n",
      "\u001b[1m7/7\u001b[0m \u001b[32m━━━━━━━━━━━━━━━━━━━━\u001b[0m\u001b[37m\u001b[0m \u001b[1m1s\u001b[0m 92ms/step - accuracy: 0.7224 - loss: 0.6129 - val_accuracy: 0.5600 - val_loss: 1.0629\n",
      "Epoch 5/15\n",
      "\u001b[1m7/7\u001b[0m \u001b[32m━━━━━━━━━━━━━━━━━━━━\u001b[0m\u001b[37m\u001b[0m \u001b[1m0s\u001b[0m 66ms/step - accuracy: 0.8207 - loss: 0.4677 - val_accuracy: 0.5500 - val_loss: 1.1723\n",
      "Epoch 6/15\n",
      "\u001b[1m7/7\u001b[0m \u001b[32m━━━━━━━━━━━━━━━━━━━━\u001b[0m\u001b[37m\u001b[0m \u001b[1m0s\u001b[0m 68ms/step - accuracy: 0.8913 - loss: 0.3349 - val_accuracy: 0.5500 - val_loss: 1.1441\n",
      "Epoch 7/15\n",
      "\u001b[1m7/7\u001b[0m \u001b[32m━━━━━━━━━━━━━━━━━━━━\u001b[0m\u001b[37m\u001b[0m \u001b[1m0s\u001b[0m 66ms/step - accuracy: 0.9333 - loss: 0.2148 - val_accuracy: 0.5500 - val_loss: 1.2833\n",
      "Epoch 8/15\n",
      "\u001b[1m7/7\u001b[0m \u001b[32m━━━━━━━━━━━━━━━━━━━━\u001b[0m\u001b[37m\u001b[0m \u001b[1m0s\u001b[0m 65ms/step - accuracy: 0.9679 - loss: 0.1405 - val_accuracy: 0.5500 - val_loss: 1.4075\n",
      "Epoch 9/15\n",
      "\u001b[1m7/7\u001b[0m \u001b[32m━━━━━━━━━━━━━━━━━━━━\u001b[0m\u001b[37m\u001b[0m \u001b[1m0s\u001b[0m 65ms/step - accuracy: 0.9744 - loss: 0.0900 - val_accuracy: 0.5400 - val_loss: 1.4659\n",
      "Epoch 10/15\n",
      "\u001b[1m7/7\u001b[0m \u001b[32m━━━━━━━━━━━━━━━━━━━━\u001b[0m\u001b[37m\u001b[0m \u001b[1m1s\u001b[0m 73ms/step - accuracy: 0.9919 - loss: 0.0582 - val_accuracy: 0.5500 - val_loss: 1.5630\n",
      "Epoch 11/15\n",
      "\u001b[1m7/7\u001b[0m \u001b[32m━━━━━━━━━━━━━━━━━━━━\u001b[0m\u001b[37m\u001b[0m \u001b[1m0s\u001b[0m 66ms/step - accuracy: 1.0000 - loss: 0.0313 - val_accuracy: 0.5400 - val_loss: 1.6191\n",
      "Epoch 12/15\n",
      "\u001b[1m7/7\u001b[0m \u001b[32m━━━━━━━━━━━━━━━━━━━━\u001b[0m\u001b[37m\u001b[0m \u001b[1m0s\u001b[0m 66ms/step - accuracy: 0.9965 - loss: 0.0298 - val_accuracy: 0.5600 - val_loss: 1.6597\n",
      "Epoch 13/15\n",
      "\u001b[1m7/7\u001b[0m \u001b[32m━━━━━━━━━━━━━━━━━━━━\u001b[0m\u001b[37m\u001b[0m \u001b[1m1s\u001b[0m 72ms/step - accuracy: 1.0000 - loss: 0.0159 - val_accuracy: 0.5400 - val_loss: 1.7068\n",
      "Epoch 14/15\n",
      "\u001b[1m7/7\u001b[0m \u001b[32m━━━━━━━━━━━━━━━━━━━━\u001b[0m\u001b[37m\u001b[0m \u001b[1m0s\u001b[0m 66ms/step - accuracy: 1.0000 - loss: 0.0167 - val_accuracy: 0.5400 - val_loss: 1.7530\n",
      "Epoch 15/15\n",
      "\u001b[1m7/7\u001b[0m \u001b[32m━━━━━━━━━━━━━━━━━━━━\u001b[0m\u001b[37m\u001b[0m \u001b[1m1s\u001b[0m 75ms/step - accuracy: 1.0000 - loss: 0.0118 - val_accuracy: 0.5400 - val_loss: 1.7850\n",
      "\u001b[1m4/4\u001b[0m \u001b[32m━━━━━━━━━━━━━━━━━━━━\u001b[0m\u001b[37m\u001b[0m \u001b[1m0s\u001b[0m 74ms/step\n"
     ]
    },
    {
     "name": "stderr",
     "output_type": "stream",
     "text": [
      "WARNING:absl:You are saving your model as an HDF5 file via `model.save()` or `keras.saving.save_model(model)`. This file format is considered legacy. We recommend using instead the native Keras format, e.g. `model.save('my_model.keras')` or `keras.saving.save_model(model, 'my_model.keras')`. \n"
     ]
    },
    {
     "name": "stdout",
     "output_type": "stream",
     "text": [
      "F1-Score: 0.4762\n"
     ]
    }
   ],
   "source": [
    "print(\"Testing: Jumlah Layer RNN\")\n",
    "rnn_layer_results = {}\n",
    "\n",
    "for num_layers in [1, 2, 3]:\n",
    "    print(f\"\\nTraining RNN dengan {num_layers} layers...\")\n",
    "    \n",
    "    rnn_config = [64] * num_layers\n",
    "    model = create_rnn_model(rnn_layers=rnn_config)\n",
    "    history, f1 = train_rnn_model_fixed(model)\n",
    "    \n",
    "    rnn_layer_results[num_layers] = {'f1': f1, 'history': history}\n",
    "    model.save(f'test_result/rnn/rnn_{num_layers}_layers.h5')\n",
    "    print(f\"F1-Score: {f1:.4f}\")"
   ]
  },
  {
   "cell_type": "code",
   "execution_count": 106,
   "id": "219de657",
   "metadata": {},
   "outputs": [
    {
     "name": "stdout",
     "output_type": "stream",
     "text": [
      "\n",
      "Testing: Jumlah Cell RNN\n",
      "\n",
      "Training RNN dengan 32 cells...\n",
      "Epoch 1/15\n",
      "\u001b[1m7/7\u001b[0m \u001b[32m━━━━━━━━━━━━━━━━━━━━\u001b[0m\u001b[37m\u001b[0m \u001b[1m2s\u001b[0m 70ms/step - accuracy: 0.3476 - loss: 1.1578 - val_accuracy: 0.3000 - val_loss: 1.1572\n",
      "Epoch 2/15\n",
      "\u001b[1m7/7\u001b[0m \u001b[32m━━━━━━━━━━━━━━━━━━━━\u001b[0m\u001b[37m\u001b[0m \u001b[1m0s\u001b[0m 37ms/step - accuracy: 0.5005 - loss: 1.0076 - val_accuracy: 0.3500 - val_loss: 1.1276\n",
      "Epoch 3/15\n",
      "\u001b[1m7/7\u001b[0m \u001b[32m━━━━━━━━━━━━━━━━━━━━\u001b[0m\u001b[37m\u001b[0m \u001b[1m0s\u001b[0m 37ms/step - accuracy: 0.7038 - loss: 0.8264 - val_accuracy: 0.3400 - val_loss: 1.1229\n",
      "Epoch 4/15\n",
      "\u001b[1m7/7\u001b[0m \u001b[32m━━━━━━━━━━━━━━━━━━━━\u001b[0m\u001b[37m\u001b[0m \u001b[1m0s\u001b[0m 36ms/step - accuracy: 0.7901 - loss: 0.6817 - val_accuracy: 0.3700 - val_loss: 1.1296\n",
      "Epoch 5/15\n",
      "\u001b[1m7/7\u001b[0m \u001b[32m━━━━━━━━━━━━━━━━━━━━\u001b[0m\u001b[37m\u001b[0m \u001b[1m0s\u001b[0m 44ms/step - accuracy: 0.8829 - loss: 0.4913 - val_accuracy: 0.4000 - val_loss: 1.1567\n",
      "Epoch 6/15\n",
      "\u001b[1m7/7\u001b[0m \u001b[32m━━━━━━━━━━━━━━━━━━━━\u001b[0m\u001b[37m\u001b[0m \u001b[1m0s\u001b[0m 37ms/step - accuracy: 0.9616 - loss: 0.3351 - val_accuracy: 0.3900 - val_loss: 1.2459\n",
      "Epoch 7/15\n",
      "\u001b[1m7/7\u001b[0m \u001b[32m━━━━━━━━━━━━━━━━━━━━\u001b[0m\u001b[37m\u001b[0m \u001b[1m0s\u001b[0m 36ms/step - accuracy: 0.9855 - loss: 0.2139 - val_accuracy: 0.3900 - val_loss: 1.2788\n",
      "Epoch 8/15\n",
      "\u001b[1m7/7\u001b[0m \u001b[32m━━━━━━━━━━━━━━━━━━━━\u001b[0m\u001b[37m\u001b[0m \u001b[1m0s\u001b[0m 37ms/step - accuracy: 0.9957 - loss: 0.1486 - val_accuracy: 0.4100 - val_loss: 1.2902\n",
      "Epoch 9/15\n",
      "\u001b[1m7/7\u001b[0m \u001b[32m━━━━━━━━━━━━━━━━━━━━\u001b[0m\u001b[37m\u001b[0m \u001b[1m0s\u001b[0m 36ms/step - accuracy: 1.0000 - loss: 0.0985 - val_accuracy: 0.4200 - val_loss: 1.3255\n",
      "Epoch 10/15\n",
      "\u001b[1m7/7\u001b[0m \u001b[32m━━━━━━━━━━━━━━━━━━━━\u001b[0m\u001b[37m\u001b[0m \u001b[1m0s\u001b[0m 36ms/step - accuracy: 1.0000 - loss: 0.0778 - val_accuracy: 0.4300 - val_loss: 1.3801\n",
      "Epoch 11/15\n",
      "\u001b[1m7/7\u001b[0m \u001b[32m━━━━━━━━━━━━━━━━━━━━\u001b[0m\u001b[37m\u001b[0m \u001b[1m0s\u001b[0m 36ms/step - accuracy: 1.0000 - loss: 0.0556 - val_accuracy: 0.4100 - val_loss: 1.4375\n",
      "Epoch 12/15\n",
      "\u001b[1m7/7\u001b[0m \u001b[32m━━━━━━━━━━━━━━━━━━━━\u001b[0m\u001b[37m\u001b[0m \u001b[1m0s\u001b[0m 36ms/step - accuracy: 0.9946 - loss: 0.0555 - val_accuracy: 0.4100 - val_loss: 1.4820\n",
      "Epoch 13/15\n",
      "\u001b[1m7/7\u001b[0m \u001b[32m━━━━━━━━━━━━━━━━━━━━\u001b[0m\u001b[37m\u001b[0m \u001b[1m0s\u001b[0m 44ms/step - accuracy: 1.0000 - loss: 0.0384 - val_accuracy: 0.4000 - val_loss: 1.5038\n",
      "Epoch 14/15\n",
      "\u001b[1m7/7\u001b[0m \u001b[32m━━━━━━━━━━━━━━━━━━━━\u001b[0m\u001b[37m\u001b[0m \u001b[1m0s\u001b[0m 37ms/step - accuracy: 1.0000 - loss: 0.0309 - val_accuracy: 0.4000 - val_loss: 1.5511\n",
      "Epoch 15/15\n",
      "\u001b[1m7/7\u001b[0m \u001b[32m━━━━━━━━━━━━━━━━━━━━\u001b[0m\u001b[37m\u001b[0m \u001b[1m0s\u001b[0m 38ms/step - accuracy: 1.0000 - loss: 0.0305 - val_accuracy: 0.4000 - val_loss: 1.5717\n",
      "\u001b[1m4/4\u001b[0m \u001b[32m━━━━━━━━━━━━━━━━━━━━\u001b[0m\u001b[37m\u001b[0m \u001b[1m0s\u001b[0m 48ms/step\n"
     ]
    },
    {
     "name": "stderr",
     "output_type": "stream",
     "text": [
      "WARNING:absl:You are saving your model as an HDF5 file via `model.save()` or `keras.saving.save_model(model)`. This file format is considered legacy. We recommend using instead the native Keras format, e.g. `model.save('my_model.keras')` or `keras.saving.save_model(model, 'my_model.keras')`. \n"
     ]
    },
    {
     "name": "stdout",
     "output_type": "stream",
     "text": [
      "F1-Score: 0.3927\n",
      "\n",
      "Training RNN dengan 64 cells...\n",
      "Epoch 1/15\n",
      "\u001b[1m7/7\u001b[0m \u001b[32m━━━━━━━━━━━━━━━━━━━━\u001b[0m\u001b[37m\u001b[0m \u001b[1m2s\u001b[0m 77ms/step - accuracy: 0.3673 - loss: 1.1633 - val_accuracy: 0.4200 - val_loss: 1.0477\n",
      "Epoch 2/15\n",
      "\u001b[1m7/7\u001b[0m \u001b[32m━━━━━━━━━━━━━━━━━━━━\u001b[0m\u001b[37m\u001b[0m \u001b[1m0s\u001b[0m 48ms/step - accuracy: 0.5556 - loss: 0.9152 - val_accuracy: 0.5500 - val_loss: 0.9530\n",
      "Epoch 3/15\n",
      "\u001b[1m7/7\u001b[0m \u001b[32m━━━━━━━━━━━━━━━━━━━━\u001b[0m\u001b[37m\u001b[0m \u001b[1m0s\u001b[0m 46ms/step - accuracy: 0.7264 - loss: 0.6890 - val_accuracy: 0.6100 - val_loss: 0.8887\n",
      "Epoch 4/15\n",
      "\u001b[1m7/7\u001b[0m \u001b[32m━━━━━━━━━━━━━━━━━━━━\u001b[0m\u001b[37m\u001b[0m \u001b[1m0s\u001b[0m 53ms/step - accuracy: 0.8799 - loss: 0.4457 - val_accuracy: 0.5900 - val_loss: 0.9255\n",
      "Epoch 5/15\n",
      "\u001b[1m7/7\u001b[0m \u001b[32m━━━━━━━━━━━━━━━━━━━━\u001b[0m\u001b[37m\u001b[0m \u001b[1m0s\u001b[0m 46ms/step - accuracy: 0.9659 - loss: 0.2234 - val_accuracy: 0.6100 - val_loss: 0.8954\n",
      "Epoch 6/15\n",
      "\u001b[1m7/7\u001b[0m \u001b[32m━━━━━━━━━━━━━━━━━━━━\u001b[0m\u001b[37m\u001b[0m \u001b[1m0s\u001b[0m 46ms/step - accuracy: 0.9855 - loss: 0.1342 - val_accuracy: 0.5700 - val_loss: 1.0298\n",
      "Epoch 7/15\n",
      "\u001b[1m7/7\u001b[0m \u001b[32m━━━━━━━━━━━━━━━━━━━━\u001b[0m\u001b[37m\u001b[0m \u001b[1m0s\u001b[0m 47ms/step - accuracy: 0.9946 - loss: 0.0776 - val_accuracy: 0.5700 - val_loss: 1.1001\n",
      "Epoch 8/15\n",
      "\u001b[1m7/7\u001b[0m \u001b[32m━━━━━━━━━━━━━━━━━━━━\u001b[0m\u001b[37m\u001b[0m \u001b[1m0s\u001b[0m 46ms/step - accuracy: 0.9987 - loss: 0.0388 - val_accuracy: 0.5900 - val_loss: 1.1211\n",
      "Epoch 9/15\n",
      "\u001b[1m7/7\u001b[0m \u001b[32m━━━━━━━━━━━━━━━━━━━━\u001b[0m\u001b[37m\u001b[0m \u001b[1m0s\u001b[0m 47ms/step - accuracy: 0.9975 - loss: 0.0270 - val_accuracy: 0.6000 - val_loss: 1.2268\n",
      "Epoch 10/15\n",
      "\u001b[1m7/7\u001b[0m \u001b[32m━━━━━━━━━━━━━━━━━━━━\u001b[0m\u001b[37m\u001b[0m \u001b[1m0s\u001b[0m 46ms/step - accuracy: 0.9990 - loss: 0.0205 - val_accuracy: 0.5800 - val_loss: 1.2597\n",
      "Epoch 11/15\n",
      "\u001b[1m7/7\u001b[0m \u001b[32m━━━━━━━━━━━━━━━━━━━━\u001b[0m\u001b[37m\u001b[0m \u001b[1m0s\u001b[0m 53ms/step - accuracy: 1.0000 - loss: 0.0151 - val_accuracy: 0.5900 - val_loss: 1.2242\n",
      "Epoch 12/15\n",
      "\u001b[1m7/7\u001b[0m \u001b[32m━━━━━━━━━━━━━━━━━━━━\u001b[0m\u001b[37m\u001b[0m \u001b[1m0s\u001b[0m 47ms/step - accuracy: 1.0000 - loss: 0.0130 - val_accuracy: 0.6100 - val_loss: 1.2295\n",
      "Epoch 13/15\n",
      "\u001b[1m7/7\u001b[0m \u001b[32m━━━━━━━━━━━━━━━━━━━━\u001b[0m\u001b[37m\u001b[0m \u001b[1m0s\u001b[0m 46ms/step - accuracy: 1.0000 - loss: 0.0107 - val_accuracy: 0.6100 - val_loss: 1.2540\n",
      "Epoch 14/15\n",
      "\u001b[1m7/7\u001b[0m \u001b[32m━━━━━━━━━━━━━━━━━━━━\u001b[0m\u001b[37m\u001b[0m \u001b[1m0s\u001b[0m 47ms/step - accuracy: 1.0000 - loss: 0.0106 - val_accuracy: 0.6000 - val_loss: 1.2566\n",
      "Epoch 15/15\n",
      "\u001b[1m7/7\u001b[0m \u001b[32m━━━━━━━━━━━━━━━━━━━━\u001b[0m\u001b[37m\u001b[0m \u001b[1m0s\u001b[0m 48ms/step - accuracy: 1.0000 - loss: 0.0084 - val_accuracy: 0.5800 - val_loss: 1.2790\n",
      "\u001b[1m4/4\u001b[0m \u001b[32m━━━━━━━━━━━━━━━━━━━━\u001b[0m\u001b[37m\u001b[0m \u001b[1m0s\u001b[0m 49ms/step\n"
     ]
    },
    {
     "name": "stderr",
     "output_type": "stream",
     "text": [
      "WARNING:absl:You are saving your model as an HDF5 file via `model.save()` or `keras.saving.save_model(model)`. This file format is considered legacy. We recommend using instead the native Keras format, e.g. `model.save('my_model.keras')` or `keras.saving.save_model(model, 'my_model.keras')`. \n"
     ]
    },
    {
     "name": "stdout",
     "output_type": "stream",
     "text": [
      "F1-Score: 0.5532\n",
      "\n",
      "Training RNN dengan 128 cells...\n",
      "Epoch 1/15\n",
      "\u001b[1m7/7\u001b[0m \u001b[32m━━━━━━━━━━━━━━━━━━━━\u001b[0m\u001b[37m\u001b[0m \u001b[1m2s\u001b[0m 114ms/step - accuracy: 0.4186 - loss: 1.1094 - val_accuracy: 0.4200 - val_loss: 1.1436\n",
      "Epoch 2/15\n",
      "\u001b[1m7/7\u001b[0m \u001b[32m━━━━━━━━━━━━━━━━━━━━\u001b[0m\u001b[37m\u001b[0m \u001b[1m1s\u001b[0m 86ms/step - accuracy: 0.6083 - loss: 0.8093 - val_accuracy: 0.5200 - val_loss: 0.9840\n",
      "Epoch 3/15\n",
      "\u001b[1m7/7\u001b[0m \u001b[32m━━━━━━━━━━━━━━━━━━━━\u001b[0m\u001b[37m\u001b[0m \u001b[1m1s\u001b[0m 75ms/step - accuracy: 0.8680 - loss: 0.5141 - val_accuracy: 0.5400 - val_loss: 1.0935\n",
      "Epoch 4/15\n",
      "\u001b[1m7/7\u001b[0m \u001b[32m━━━━━━━━━━━━━━━━━━━━\u001b[0m\u001b[37m\u001b[0m \u001b[1m1s\u001b[0m 78ms/step - accuracy: 0.9607 - loss: 0.2465 - val_accuracy: 0.6000 - val_loss: 1.1287\n",
      "Epoch 5/15\n",
      "\u001b[1m7/7\u001b[0m \u001b[32m━━━━━━━━━━━━━━━━━━━━\u001b[0m\u001b[37m\u001b[0m \u001b[1m1s\u001b[0m 79ms/step - accuracy: 0.9933 - loss: 0.0884 - val_accuracy: 0.5900 - val_loss: 1.2290\n",
      "Epoch 6/15\n",
      "\u001b[1m7/7\u001b[0m \u001b[32m━━━━━━━━━━━━━━━━━━━━\u001b[0m\u001b[37m\u001b[0m \u001b[1m1s\u001b[0m 76ms/step - accuracy: 0.9916 - loss: 0.0568 - val_accuracy: 0.4900 - val_loss: 1.8991\n",
      "Epoch 7/15\n",
      "\u001b[1m7/7\u001b[0m \u001b[32m━━━━━━━━━━━━━━━━━━━━\u001b[0m\u001b[37m\u001b[0m \u001b[1m1s\u001b[0m 76ms/step - accuracy: 0.9920 - loss: 0.0380 - val_accuracy: 0.5200 - val_loss: 1.7137\n",
      "Epoch 8/15\n",
      "\u001b[1m7/7\u001b[0m \u001b[32m━━━━━━━━━━━━━━━━━━━━\u001b[0m\u001b[37m\u001b[0m \u001b[1m1s\u001b[0m 77ms/step - accuracy: 0.9968 - loss: 0.0247 - val_accuracy: 0.5700 - val_loss: 1.5357\n",
      "Epoch 9/15\n",
      "\u001b[1m7/7\u001b[0m \u001b[32m━━━━━━━━━━━━━━━━━━━━\u001b[0m\u001b[37m\u001b[0m \u001b[1m1s\u001b[0m 75ms/step - accuracy: 0.9800 - loss: 0.0605 - val_accuracy: 0.5000 - val_loss: 1.7597\n",
      "Epoch 10/15\n",
      "\u001b[1m7/7\u001b[0m \u001b[32m━━━━━━━━━━━━━━━━━━━━\u001b[0m\u001b[37m\u001b[0m \u001b[1m1s\u001b[0m 76ms/step - accuracy: 0.9904 - loss: 0.0511 - val_accuracy: 0.5100 - val_loss: 1.9116\n",
      "Epoch 11/15\n",
      "\u001b[1m7/7\u001b[0m \u001b[32m━━━━━━━━━━━━━━━━━━━━\u001b[0m\u001b[37m\u001b[0m \u001b[1m1s\u001b[0m 77ms/step - accuracy: 0.9782 - loss: 0.0542 - val_accuracy: 0.4900 - val_loss: 1.6128\n",
      "Epoch 12/15\n",
      "\u001b[1m7/7\u001b[0m \u001b[32m━━━━━━━━━━━━━━━━━━━━\u001b[0m\u001b[37m\u001b[0m \u001b[1m1s\u001b[0m 75ms/step - accuracy: 0.9947 - loss: 0.0215 - val_accuracy: 0.5400 - val_loss: 1.5784\n",
      "Epoch 13/15\n",
      "\u001b[1m7/7\u001b[0m \u001b[32m━━━━━━━━━━━━━━━━━━━━\u001b[0m\u001b[37m\u001b[0m \u001b[1m1s\u001b[0m 74ms/step - accuracy: 0.9950 - loss: 0.0268 - val_accuracy: 0.6100 - val_loss: 1.5162\n",
      "Epoch 14/15\n",
      "\u001b[1m7/7\u001b[0m \u001b[32m━━━━━━━━━━━━━━━━━━━━\u001b[0m\u001b[37m\u001b[0m \u001b[1m1s\u001b[0m 83ms/step - accuracy: 1.0000 - loss: 0.0104 - val_accuracy: 0.6000 - val_loss: 1.5058\n",
      "Epoch 15/15\n",
      "\u001b[1m7/7\u001b[0m \u001b[32m━━━━━━━━━━━━━━━━━━━━\u001b[0m\u001b[37m\u001b[0m \u001b[1m1s\u001b[0m 75ms/step - accuracy: 1.0000 - loss: 0.0060 - val_accuracy: 0.6000 - val_loss: 1.5796\n",
      "\u001b[1m4/4\u001b[0m \u001b[32m━━━━━━━━━━━━━━━━━━━━\u001b[0m\u001b[37m\u001b[0m \u001b[1m0s\u001b[0m 53ms/step\n"
     ]
    },
    {
     "name": "stderr",
     "output_type": "stream",
     "text": [
      "WARNING:absl:You are saving your model as an HDF5 file via `model.save()` or `keras.saving.save_model(model)`. This file format is considered legacy. We recommend using instead the native Keras format, e.g. `model.save('my_model.keras')` or `keras.saving.save_model(model, 'my_model.keras')`. \n"
     ]
    },
    {
     "name": "stdout",
     "output_type": "stream",
     "text": [
      "F1-Score: 0.5450\n"
     ]
    }
   ],
   "source": [
    "print(\"\\nTesting: Jumlah Cell RNN\")\n",
    "rnn_cell_results = {}\n",
    "\n",
    "for num_cells in [32, 64, 128]:\n",
    "    print(f\"\\nTraining RNN dengan {num_cells} cells...\")\n",
    "    \n",
    "    rnn_config = [num_cells, num_cells]\n",
    "    model = create_rnn_model(rnn_layers=rnn_config)\n",
    "    history, f1 = train_rnn_model_fixed(model)\n",
    "    \n",
    "    rnn_cell_results[num_cells] = {'f1': f1, 'history': history}\n",
    "    model.save(f'test_result/rnn/rnn_{num_cells}_cells.h5')\n",
    "    print(f\"F1-Score: {f1:.4f}\")"
   ]
  },
  {
   "cell_type": "code",
   "execution_count": 107,
   "id": "02123fcf",
   "metadata": {},
   "outputs": [
    {
     "name": "stdout",
     "output_type": "stream",
     "text": [
      "\n",
      "Testing: Arah RNN\n",
      "\n",
      "Training unidirectional RNN...\n",
      "Epoch 1/15\n",
      "\u001b[1m7/7\u001b[0m \u001b[32m━━━━━━━━━━━━━━━━━━━━\u001b[0m\u001b[37m\u001b[0m \u001b[1m2s\u001b[0m 78ms/step - accuracy: 0.3646 - loss: 1.1516 - val_accuracy: 0.5100 - val_loss: 0.9965\n",
      "Epoch 2/15\n",
      "\u001b[1m7/7\u001b[0m \u001b[32m━━━━━━━━━━━━━━━━━━━━\u001b[0m\u001b[37m\u001b[0m \u001b[1m0s\u001b[0m 48ms/step - accuracy: 0.5693 - loss: 0.9418 - val_accuracy: 0.5600 - val_loss: 0.9322\n",
      "Epoch 3/15\n",
      "\u001b[1m7/7\u001b[0m \u001b[32m━━━━━━━━━━━━━━━━━━━━\u001b[0m\u001b[37m\u001b[0m \u001b[1m0s\u001b[0m 47ms/step - accuracy: 0.7117 - loss: 0.6908 - val_accuracy: 0.6300 - val_loss: 0.8311\n",
      "Epoch 4/15\n",
      "\u001b[1m7/7\u001b[0m \u001b[32m━━━━━━━━━━━━━━━━━━━━\u001b[0m\u001b[37m\u001b[0m \u001b[1m0s\u001b[0m 54ms/step - accuracy: 0.8593 - loss: 0.4585 - val_accuracy: 0.6500 - val_loss: 0.7992\n",
      "Epoch 5/15\n",
      "\u001b[1m7/7\u001b[0m \u001b[32m━━━━━━━━━━━━━━━━━━━━\u001b[0m\u001b[37m\u001b[0m \u001b[1m0s\u001b[0m 47ms/step - accuracy: 0.9686 - loss: 0.2735 - val_accuracy: 0.6400 - val_loss: 0.8339\n",
      "Epoch 6/15\n",
      "\u001b[1m7/7\u001b[0m \u001b[32m━━━━━━━━━━━━━━━━━━━━\u001b[0m\u001b[37m\u001b[0m \u001b[1m0s\u001b[0m 47ms/step - accuracy: 0.9929 - loss: 0.1368 - val_accuracy: 0.6800 - val_loss: 0.8345\n",
      "Epoch 7/15\n",
      "\u001b[1m7/7\u001b[0m \u001b[32m━━━━━━━━━━━━━━━━━━━━\u001b[0m\u001b[37m\u001b[0m \u001b[1m0s\u001b[0m 46ms/step - accuracy: 0.9852 - loss: 0.0833 - val_accuracy: 0.6600 - val_loss: 0.8675\n",
      "Epoch 8/15\n",
      "\u001b[1m7/7\u001b[0m \u001b[32m━━━━━━━━━━━━━━━━━━━━\u001b[0m\u001b[37m\u001b[0m \u001b[1m0s\u001b[0m 46ms/step - accuracy: 1.0000 - loss: 0.0456 - val_accuracy: 0.6200 - val_loss: 0.9537\n",
      "Epoch 9/15\n",
      "\u001b[1m7/7\u001b[0m \u001b[32m━━━━━━━━━━━━━━━━━━━━\u001b[0m\u001b[37m\u001b[0m \u001b[1m0s\u001b[0m 46ms/step - accuracy: 1.0000 - loss: 0.0276 - val_accuracy: 0.6200 - val_loss: 1.0291\n",
      "Epoch 10/15\n",
      "\u001b[1m7/7\u001b[0m \u001b[32m━━━━━━━━━━━━━━━━━━━━\u001b[0m\u001b[37m\u001b[0m \u001b[1m0s\u001b[0m 46ms/step - accuracy: 1.0000 - loss: 0.0244 - val_accuracy: 0.6400 - val_loss: 1.0133\n",
      "Epoch 11/15\n",
      "\u001b[1m7/7\u001b[0m \u001b[32m━━━━━━━━━━━━━━━━━━━━\u001b[0m\u001b[37m\u001b[0m \u001b[1m0s\u001b[0m 46ms/step - accuracy: 1.0000 - loss: 0.0171 - val_accuracy: 0.6400 - val_loss: 1.0273\n",
      "Epoch 12/15\n",
      "\u001b[1m7/7\u001b[0m \u001b[32m━━━━━━━━━━━━━━━━━━━━\u001b[0m\u001b[37m\u001b[0m \u001b[1m0s\u001b[0m 46ms/step - accuracy: 1.0000 - loss: 0.0142 - val_accuracy: 0.6400 - val_loss: 1.0578\n",
      "Epoch 13/15\n",
      "\u001b[1m7/7\u001b[0m \u001b[32m━━━━━━━━━━━━━━━━━━━━\u001b[0m\u001b[37m\u001b[0m \u001b[1m0s\u001b[0m 48ms/step - accuracy: 1.0000 - loss: 0.0107 - val_accuracy: 0.6500 - val_loss: 1.0892\n",
      "Epoch 14/15\n",
      "\u001b[1m7/7\u001b[0m \u001b[32m━━━━━━━━━━━━━━━━━━━━\u001b[0m\u001b[37m\u001b[0m \u001b[1m0s\u001b[0m 47ms/step - accuracy: 1.0000 - loss: 0.0073 - val_accuracy: 0.6300 - val_loss: 1.1215\n",
      "Epoch 15/15\n",
      "\u001b[1m7/7\u001b[0m \u001b[32m━━━━━━━━━━━━━━━━━━━━\u001b[0m\u001b[37m\u001b[0m \u001b[1m0s\u001b[0m 47ms/step - accuracy: 1.0000 - loss: 0.0065 - val_accuracy: 0.6200 - val_loss: 1.1444\n",
      "\u001b[1m4/4\u001b[0m \u001b[32m━━━━━━━━━━━━━━━━━━━━\u001b[0m\u001b[37m\u001b[0m \u001b[1m0s\u001b[0m 49ms/step\n"
     ]
    },
    {
     "name": "stderr",
     "output_type": "stream",
     "text": [
      "WARNING:absl:You are saving your model as an HDF5 file via `model.save()` or `keras.saving.save_model(model)`. This file format is considered legacy. We recommend using instead the native Keras format, e.g. `model.save('my_model.keras')` or `keras.saving.save_model(model, 'my_model.keras')`. \n"
     ]
    },
    {
     "name": "stdout",
     "output_type": "stream",
     "text": [
      "F1-Score: 0.5942\n",
      "\n",
      "Training bidirectional RNN...\n",
      "Epoch 1/15\n",
      "\u001b[1m7/7\u001b[0m \u001b[32m━━━━━━━━━━━━━━━━━━━━\u001b[0m\u001b[37m\u001b[0m \u001b[1m3s\u001b[0m 107ms/step - accuracy: 0.3851 - loss: 1.1335 - val_accuracy: 0.5000 - val_loss: 1.0237\n",
      "Epoch 2/15\n",
      "\u001b[1m7/7\u001b[0m \u001b[32m━━━━━━━━━━━━━━━━━━━━\u001b[0m\u001b[37m\u001b[0m \u001b[1m0s\u001b[0m 55ms/step - accuracy: 0.6074 - loss: 0.8373 - val_accuracy: 0.5500 - val_loss: 0.9622\n",
      "Epoch 3/15\n",
      "\u001b[1m7/7\u001b[0m \u001b[32m━━━━━━━━━━━━━━━━━━━━\u001b[0m\u001b[37m\u001b[0m \u001b[1m0s\u001b[0m 63ms/step - accuracy: 0.7951 - loss: 0.6076 - val_accuracy: 0.6100 - val_loss: 0.8847\n",
      "Epoch 4/15\n",
      "\u001b[1m7/7\u001b[0m \u001b[32m━━━━━━━━━━━━━━━━━━━━\u001b[0m\u001b[37m\u001b[0m \u001b[1m0s\u001b[0m 55ms/step - accuracy: 0.9380 - loss: 0.3368 - val_accuracy: 0.6400 - val_loss: 0.8208\n",
      "Epoch 5/15\n",
      "\u001b[1m7/7\u001b[0m \u001b[32m━━━━━━━━━━━━━━━━━━━━\u001b[0m\u001b[37m\u001b[0m \u001b[1m0s\u001b[0m 54ms/step - accuracy: 0.9815 - loss: 0.1793 - val_accuracy: 0.6200 - val_loss: 0.8697\n",
      "Epoch 6/15\n",
      "\u001b[1m7/7\u001b[0m \u001b[32m━━━━━━━━━━━━━━━━━━━━\u001b[0m\u001b[37m\u001b[0m \u001b[1m0s\u001b[0m 57ms/step - accuracy: 0.9913 - loss: 0.0912 - val_accuracy: 0.6300 - val_loss: 0.9003\n",
      "Epoch 7/15\n",
      "\u001b[1m7/7\u001b[0m \u001b[32m━━━━━━━━━━━━━━━━━━━━\u001b[0m\u001b[37m\u001b[0m \u001b[1m0s\u001b[0m 55ms/step - accuracy: 1.0000 - loss: 0.0479 - val_accuracy: 0.6000 - val_loss: 1.0314\n",
      "Epoch 8/15\n",
      "\u001b[1m7/7\u001b[0m \u001b[32m━━━━━━━━━━━━━━━━━━━━\u001b[0m\u001b[37m\u001b[0m \u001b[1m0s\u001b[0m 54ms/step - accuracy: 0.9975 - loss: 0.0326 - val_accuracy: 0.5900 - val_loss: 1.1258\n",
      "Epoch 9/15\n",
      "\u001b[1m7/7\u001b[0m \u001b[32m━━━━━━━━━━━━━━━━━━━━\u001b[0m\u001b[37m\u001b[0m \u001b[1m0s\u001b[0m 54ms/step - accuracy: 1.0000 - loss: 0.0175 - val_accuracy: 0.6200 - val_loss: 1.0990\n",
      "Epoch 10/15\n",
      "\u001b[1m7/7\u001b[0m \u001b[32m━━━━━━━━━━━━━━━━━━━━\u001b[0m\u001b[37m\u001b[0m \u001b[1m0s\u001b[0m 54ms/step - accuracy: 1.0000 - loss: 0.0124 - val_accuracy: 0.6300 - val_loss: 1.1140\n",
      "Epoch 11/15\n",
      "\u001b[1m7/7\u001b[0m \u001b[32m━━━━━━━━━━━━━━━━━━━━\u001b[0m\u001b[37m\u001b[0m \u001b[1m0s\u001b[0m 62ms/step - accuracy: 1.0000 - loss: 0.0071 - val_accuracy: 0.6200 - val_loss: 1.1660\n",
      "Epoch 12/15\n",
      "\u001b[1m7/7\u001b[0m \u001b[32m━━━━━━━━━━━━━━━━━━━━\u001b[0m\u001b[37m\u001b[0m \u001b[1m0s\u001b[0m 57ms/step - accuracy: 1.0000 - loss: 0.0071 - val_accuracy: 0.5900 - val_loss: 1.2297\n",
      "Epoch 13/15\n",
      "\u001b[1m7/7\u001b[0m \u001b[32m━━━━━━━━━━━━━━━━━━━━\u001b[0m\u001b[37m\u001b[0m \u001b[1m0s\u001b[0m 58ms/step - accuracy: 1.0000 - loss: 0.0038 - val_accuracy: 0.5700 - val_loss: 1.2807\n",
      "Epoch 14/15\n",
      "\u001b[1m7/7\u001b[0m \u001b[32m━━━━━━━━━━━━━━━━━━━━\u001b[0m\u001b[37m\u001b[0m \u001b[1m1s\u001b[0m 76ms/step - accuracy: 1.0000 - loss: 0.0043 - val_accuracy: 0.5700 - val_loss: 1.3189\n",
      "Epoch 15/15\n",
      "\u001b[1m7/7\u001b[0m \u001b[32m━━━━━━━━━━━━━━━━━━━━\u001b[0m\u001b[37m\u001b[0m \u001b[1m1s\u001b[0m 88ms/step - accuracy: 1.0000 - loss: 0.0038 - val_accuracy: 0.5700 - val_loss: 1.3408\n",
      "\u001b[1m4/4\u001b[0m \u001b[32m━━━━━━━━━━━━━━━━━━━━\u001b[0m\u001b[37m\u001b[0m \u001b[1m1s\u001b[0m 90ms/step\n"
     ]
    },
    {
     "name": "stderr",
     "output_type": "stream",
     "text": [
      "WARNING:absl:You are saving your model as an HDF5 file via `model.save()` or `keras.saving.save_model(model)`. This file format is considered legacy. We recommend using instead the native Keras format, e.g. `model.save('my_model.keras')` or `keras.saving.save_model(model, 'my_model.keras')`. \n"
     ]
    },
    {
     "name": "stdout",
     "output_type": "stream",
     "text": [
      "F1-Score: 0.5245\n"
     ]
    }
   ],
   "source": [
    "print(\"\\nTesting: Arah RNN\")\n",
    "rnn_direction_results = {}\n",
    "\n",
    "for bidirectional in [False, True]:\n",
    "    direction = \"bidirectional\" if bidirectional else \"unidirectional\"\n",
    "    print(f\"\\nTraining {direction} RNN...\")\n",
    "    \n",
    "    rnn_config = [64, 64]\n",
    "    model = create_rnn_model(rnn_layers=rnn_config, bidirectional=bidirectional)\n",
    "    history, f1 = train_rnn_model_fixed(model)\n",
    "    \n",
    "    rnn_direction_results[direction] = {'f1': f1, 'history': history}\n",
    "    model.save(f'rnn_{direction}.h5')\n",
    "    print(f\"F1-Score: {f1:.4f}\")"
   ]
  },
  {
   "cell_type": "code",
   "execution_count": 108,
   "id": "c11ff2c8",
   "metadata": {},
   "outputs": [
    {
     "name": "stderr",
     "output_type": "stream",
     "text": [
      "WARNING:absl:Compiled the loaded model, but the compiled metrics have yet to be built. `model.compile_metrics` will be empty until you train or evaluate the model.\n"
     ]
    },
    {
     "name": "stdout",
     "output_type": "stream",
     "text": [
      "\n",
      "Testing RNN From Scratch Implementation\n",
      "Comparing RNN implementations...\n",
      "\u001b[1m4/4\u001b[0m \u001b[32m━━━━━━━━━━━━━━━━━━━━\u001b[0m\u001b[37m\u001b[0m \u001b[1m1s\u001b[0m 89ms/step\n",
      "Input tokens shape: (100, 100)\n",
      "Keras probs shape: (100, 3)\n",
      "Scratch probs shape: (100, 100, 3)\n",
      "Adjusted scratch probs shape: (100, 3)\n",
      "Final shapes - True labels: (100,), Keras preds: (100,), Scratch preds: (100,)\n",
      "Keras RNN F1-Score: 0.5245\n",
      "Scratch RNN F1-Score: 0.1728\n",
      "Difference: 0.3516\n",
      "Sample predictions - Keras: [1 2 2 1 2], Scratch: [0 0 0 0 0]\n",
      "True labels: [1 1 2 1 0]\n"
     ]
    }
   ],
   "source": [
    "print(\"\\nTesting RNN From Scratch Implementation\")\n",
    "best_rnn_model = keras.models.load_model('rnn_bidirectional.h5')\n",
    "rnn_scratch = RNNModelFromScratch(best_rnn_model)\n",
    "print(\"Comparing RNN implementations...\")\n",
    "keras_probs = best_rnn_model.predict(rnn_test_tokens)\n",
    "keras_preds = np.argmax(keras_probs, axis=1)\n",
    "keras_f1 = f1_score(rnn_test_labels, keras_preds, average='macro')\n",
    "\n",
    "print(f\"Input tokens shape: {rnn_test_tokens.shape}\")\n",
    "scratch_probs = rnn_scratch.forward(rnn_test_tokens, training=False)\n",
    "print(f\"Keras probs shape: {keras_probs.shape}\")\n",
    "print(f\"Scratch probs shape: {scratch_probs.shape}\")\n",
    "\n",
    "if len(scratch_probs.shape) == 3:\n",
    "    scratch_probs = scratch_probs[:, -1, :]\n",
    "    print(f\"Adjusted scratch probs shape: {scratch_probs.shape}\")\n",
    "\n",
    "if scratch_probs.shape != keras_probs.shape:\n",
    "    print(f\"Warning: Shape mismatch! Keras: {keras_probs.shape}, Scratch: {scratch_probs.shape}\")\n",
    "    if len(scratch_probs.shape) == 1:\n",
    "        scratch_probs = scratch_probs.reshape(-1, 1)\n",
    "    elif scratch_probs.shape[0] != keras_probs.shape[0]:\n",
    "        min_samples = min(scratch_probs.shape[0], keras_probs.shape[0])\n",
    "        scratch_probs = scratch_probs[:min_samples]\n",
    "        keras_probs = keras_probs[:min_samples]\n",
    "        rnn_test_labels = rnn_test_labels[:min_samples]\n",
    "\n",
    "scratch_preds = np.argmax(scratch_probs, axis=1)\n",
    "print(f\"Final shapes - True labels: {rnn_test_labels.shape}, Keras preds: {keras_preds.shape}, Scratch preds: {scratch_preds.shape}\")\n",
    "\n",
    "min_len = min(len(rnn_test_labels), len(keras_preds), len(scratch_preds))\n",
    "rnn_test_labels_adj = rnn_test_labels[:min_len]\n",
    "keras_preds_adj = keras_preds[:min_len]\n",
    "scratch_preds_adj = scratch_preds[:min_len]\n",
    "\n",
    "keras_f1 = f1_score(rnn_test_labels_adj, keras_preds_adj, average='macro')\n",
    "scratch_f1 = f1_score(rnn_test_labels_adj, scratch_preds_adj, average='macro')\n",
    "\n",
    "print(f\"Keras RNN F1-Score: {keras_f1:.4f}\")\n",
    "print(f\"Scratch RNN F1-Score: {scratch_f1:.4f}\")\n",
    "print(f\"Difference: {abs(keras_f1 - scratch_f1):.4f}\")\n",
    "\n",
    "print(f\"Sample predictions - Keras: {keras_preds_adj[:5]}, Scratch: {scratch_preds_adj[:5]}\")\n",
    "print(f\"True labels: {rnn_test_labels_adj[:5]}\")"
   ]
  },
  {
   "cell_type": "code",
   "execution_count": 109,
   "id": "fd610f54",
   "metadata": {},
   "outputs": [
    {
     "name": "stdout",
     "output_type": "stream",
     "text": [
      "Testing: Jumlah Layer LSTM\n",
      "\n",
      "Training LSTM dengan 1 layers...\n",
      "Epoch 1/3\n",
      "\u001b[1m13/13\u001b[0m \u001b[32m━━━━━━━━━━━━━━━━━━━━\u001b[0m\u001b[37m\u001b[0m \u001b[1m1s\u001b[0m 48ms/step - accuracy: 0.4212 - loss: 1.0921 - val_accuracy: 0.6200 - val_loss: 1.0718\n",
      "Epoch 2/3\n",
      "\u001b[1m13/13\u001b[0m \u001b[32m━━━━━━━━━━━━━━━━━━━━\u001b[0m\u001b[37m\u001b[0m \u001b[1m0s\u001b[0m 36ms/step - accuracy: 0.5004 - loss: 1.0418 - val_accuracy: 0.4300 - val_loss: 0.9783\n",
      "Epoch 3/3\n",
      "\u001b[1m13/13\u001b[0m \u001b[32m━━━━━━━━━━━━━━━━━━━━\u001b[0m\u001b[37m\u001b[0m \u001b[1m0s\u001b[0m 36ms/step - accuracy: 0.5264 - loss: 0.9588 - val_accuracy: 0.6400 - val_loss: 0.8931\n",
      "\u001b[1m4/4\u001b[0m \u001b[32m━━━━━━━━━━━━━━━━━━━━\u001b[0m\u001b[37m\u001b[0m \u001b[1m0s\u001b[0m 37ms/step\n"
     ]
    },
    {
     "name": "stderr",
     "output_type": "stream",
     "text": [
      "WARNING:absl:You are saving your model as an HDF5 file via `model.save()` or `keras.saving.save_model(model)`. This file format is considered legacy. We recommend using instead the native Keras format, e.g. `model.save('my_model.keras')` or `keras.saving.save_model(model, 'my_model.keras')`. \n"
     ]
    },
    {
     "name": "stdout",
     "output_type": "stream",
     "text": [
      "F1-Score: 0.5111\n",
      "\n",
      "Training LSTM dengan 2 layers...\n",
      "Epoch 1/3\n",
      "\u001b[1m13/13\u001b[0m \u001b[32m━━━━━━━━━━━━━━━━━━━━\u001b[0m\u001b[37m\u001b[0m \u001b[1m5s\u001b[0m 84ms/step - accuracy: 0.3981 - loss: 1.0915 - val_accuracy: 0.3800 - val_loss: 1.0590\n",
      "Epoch 2/3\n",
      "\u001b[1m13/13\u001b[0m \u001b[32m━━━━━━━━━━━━━━━━━━━━\u001b[0m\u001b[37m\u001b[0m \u001b[1m1s\u001b[0m 66ms/step - accuracy: 0.4238 - loss: 1.0165 - val_accuracy: 0.4000 - val_loss: 1.0248\n",
      "Epoch 3/3\n",
      "\u001b[1m13/13\u001b[0m \u001b[32m━━━━━━━━━━━━━━━━━━━━\u001b[0m\u001b[37m\u001b[0m \u001b[1m1s\u001b[0m 66ms/step - accuracy: 0.6091 - loss: 0.8456 - val_accuracy: 0.6300 - val_loss: 0.8594\n",
      "\u001b[1m4/4\u001b[0m \u001b[32m━━━━━━━━━━━━━━━━━━━━\u001b[0m\u001b[37m\u001b[0m \u001b[1m0s\u001b[0m 65ms/step\n"
     ]
    },
    {
     "name": "stderr",
     "output_type": "stream",
     "text": [
      "WARNING:absl:You are saving your model as an HDF5 file via `model.save()` or `keras.saving.save_model(model)`. This file format is considered legacy. We recommend using instead the native Keras format, e.g. `model.save('my_model.keras')` or `keras.saving.save_model(model, 'my_model.keras')`. \n"
     ]
    },
    {
     "name": "stdout",
     "output_type": "stream",
     "text": [
      "F1-Score: 0.5062\n",
      "\n",
      "Training LSTM dengan 3 layers...\n",
      "Epoch 1/3\n",
      "\u001b[1m13/13\u001b[0m \u001b[32m━━━━━━━━━━━━━━━━━━━━\u001b[0m\u001b[37m\u001b[0m \u001b[1m4s\u001b[0m 116ms/step - accuracy: 0.3881 - loss: 1.0909 - val_accuracy: 0.3800 - val_loss: 1.0263\n",
      "Epoch 2/3\n",
      "\u001b[1m13/13\u001b[0m \u001b[32m━━━━━━━━━━━━━━━━━━━━\u001b[0m\u001b[37m\u001b[0m \u001b[1m1s\u001b[0m 95ms/step - accuracy: 0.4148 - loss: 0.9864 - val_accuracy: 0.6400 - val_loss: 0.9019\n",
      "Epoch 3/3\n",
      "\u001b[1m13/13\u001b[0m \u001b[32m━━━━━━━━━━━━━━━━━━━━\u001b[0m\u001b[37m\u001b[0m \u001b[1m1s\u001b[0m 97ms/step - accuracy: 0.6921 - loss: 0.7825 - val_accuracy: 0.6400 - val_loss: 0.8106\n",
      "\u001b[1m4/4\u001b[0m \u001b[32m━━━━━━━━━━━━━━━━━━━━\u001b[0m\u001b[37m\u001b[0m \u001b[1m0s\u001b[0m 84ms/step\n"
     ]
    },
    {
     "name": "stderr",
     "output_type": "stream",
     "text": [
      "WARNING:absl:You are saving your model as an HDF5 file via `model.save()` or `keras.saving.save_model(model)`. This file format is considered legacy. We recommend using instead the native Keras format, e.g. `model.save('my_model.keras')` or `keras.saving.save_model(model, 'my_model.keras')`. \n"
     ]
    },
    {
     "name": "stdout",
     "output_type": "stream",
     "text": [
      "F1-Score: 0.4949\n"
     ]
    }
   ],
   "source": [
    "# variasi jumlah layer\n",
    "print(\"Testing: Jumlah Layer LSTM\")\n",
    "lstm_layer_results = {}\n",
    "\n",
    "for num_layers in [1, 2, 3]:\n",
    "    print(f\"\\nTraining LSTM dengan {num_layers} layers...\")\n",
    "    \n",
    "    model = create_lstm_model(lstm_units=64, num_lstm_layers=num_layers, vocab_size=10000, num_classes=3)\n",
    "    history = train_lstm_model(model, rnn_train_tokens,rnn_train_labels,rnn_test_tokens, rnn_test_labels, epochs=3)\n",
    "    \n",
    "    pred = model.predict(rnn_test_tokens)\n",
    "    pred_classes = np.argmax(pred, axis=1)\n",
    "    f1 = f1_score(rnn_test_labels, pred_classes, average='macro')\n",
    "    \n",
    "    lstm_layer_results[num_layers] = {'f1': f1, 'history': history}\n",
    "    model.save(f'test_result/lstm/lstm_{num_layers}_layers.h5')\n",
    "    print(f\"F1-Score: {f1:.4f}\")"
   ]
  },
  {
   "cell_type": "code",
   "execution_count": 110,
   "id": "c78e1c47",
   "metadata": {},
   "outputs": [
    {
     "name": "stdout",
     "output_type": "stream",
     "text": [
      "\n",
      "Testing: Jumlah Cell LSTM\n",
      "\n",
      "Training LSTM dengan 32 cells...\n",
      "Epoch 1/3\n",
      "\u001b[1m13/13\u001b[0m \u001b[32m━━━━━━━━━━━━━━━━━━━━\u001b[0m\u001b[37m\u001b[0m \u001b[1m2s\u001b[0m 63ms/step - accuracy: 0.3500 - loss: 1.0942 - val_accuracy: 0.5700 - val_loss: 1.0743\n",
      "Epoch 2/3\n",
      "\u001b[1m13/13\u001b[0m \u001b[32m━━━━━━━━━━━━━━━━━━━━\u001b[0m\u001b[37m\u001b[0m \u001b[1m1s\u001b[0m 46ms/step - accuracy: 0.4561 - loss: 1.0504 - val_accuracy: 0.4300 - val_loss: 1.0084\n",
      "Epoch 3/3\n",
      "\u001b[1m13/13\u001b[0m \u001b[32m━━━━━━━━━━━━━━━━━━━━\u001b[0m\u001b[37m\u001b[0m \u001b[1m1s\u001b[0m 46ms/step - accuracy: 0.4957 - loss: 0.9557 - val_accuracy: 0.6600 - val_loss: 0.9348\n",
      "\u001b[1m4/4\u001b[0m \u001b[32m━━━━━━━━━━━━━━━━━━━━\u001b[0m\u001b[37m\u001b[0m \u001b[1m0s\u001b[0m 57ms/step\n"
     ]
    },
    {
     "name": "stderr",
     "output_type": "stream",
     "text": [
      "WARNING:absl:You are saving your model as an HDF5 file via `model.save()` or `keras.saving.save_model(model)`. This file format is considered legacy. We recommend using instead the native Keras format, e.g. `model.save('my_model.keras')` or `keras.saving.save_model(model, 'my_model.keras')`. \n"
     ]
    },
    {
     "name": "stdout",
     "output_type": "stream",
     "text": [
      "F1-Score: 0.5082\n",
      "\n",
      "Training LSTM dengan 64 cells...\n",
      "Epoch 1/3\n",
      "\u001b[1m13/13\u001b[0m \u001b[32m━━━━━━━━━━━━━━━━━━━━\u001b[0m\u001b[37m\u001b[0m \u001b[1m3s\u001b[0m 83ms/step - accuracy: 0.3834 - loss: 1.0896 - val_accuracy: 0.4600 - val_loss: 1.0450\n",
      "Epoch 2/3\n",
      "\u001b[1m13/13\u001b[0m \u001b[32m━━━━━━━━━━━━━━━━━━━━\u001b[0m\u001b[37m\u001b[0m \u001b[1m1s\u001b[0m 65ms/step - accuracy: 0.4620 - loss: 0.9915 - val_accuracy: 0.5900 - val_loss: 1.0074\n",
      "Epoch 3/3\n",
      "\u001b[1m13/13\u001b[0m \u001b[32m━━━━━━━━━━━━━━━━━━━━\u001b[0m\u001b[37m\u001b[0m \u001b[1m1s\u001b[0m 69ms/step - accuracy: 0.5311 - loss: 0.9143 - val_accuracy: 0.6300 - val_loss: 0.8700\n",
      "\u001b[1m4/4\u001b[0m \u001b[32m━━━━━━━━━━━━━━━━━━━━\u001b[0m\u001b[37m\u001b[0m \u001b[1m0s\u001b[0m 60ms/step\n"
     ]
    },
    {
     "name": "stderr",
     "output_type": "stream",
     "text": [
      "WARNING:absl:You are saving your model as an HDF5 file via `model.save()` or `keras.saving.save_model(model)`. This file format is considered legacy. We recommend using instead the native Keras format, e.g. `model.save('my_model.keras')` or `keras.saving.save_model(model, 'my_model.keras')`. \n"
     ]
    },
    {
     "name": "stdout",
     "output_type": "stream",
     "text": [
      "F1-Score: 0.5210\n",
      "\n",
      "Training LSTM dengan 128 cells...\n",
      "Epoch 1/3\n",
      "\u001b[1m13/13\u001b[0m \u001b[32m━━━━━━━━━━━━━━━━━━━━\u001b[0m\u001b[37m\u001b[0m \u001b[1m3s\u001b[0m 148ms/step - accuracy: 0.3635 - loss: 1.0875 - val_accuracy: 0.3800 - val_loss: 1.0170\n",
      "Epoch 2/3\n",
      "\u001b[1m13/13\u001b[0m \u001b[32m━━━━━━━━━━━━━━━━━━━━\u001b[0m\u001b[37m\u001b[0m \u001b[1m2s\u001b[0m 132ms/step - accuracy: 0.4421 - loss: 0.9734 - val_accuracy: 0.6000 - val_loss: 0.9218\n",
      "Epoch 3/3\n",
      "\u001b[1m13/13\u001b[0m \u001b[32m━━━━━━━━━━━━━━━━━━━━\u001b[0m\u001b[37m\u001b[0m \u001b[1m2s\u001b[0m 133ms/step - accuracy: 0.6415 - loss: 0.8300 - val_accuracy: 0.6400 - val_loss: 0.7661\n",
      "\u001b[1m4/4\u001b[0m \u001b[32m━━━━━━━━━━━━━━━━━━━━\u001b[0m\u001b[37m\u001b[0m \u001b[1m0s\u001b[0m 82ms/step\n"
     ]
    },
    {
     "name": "stderr",
     "output_type": "stream",
     "text": [
      "WARNING:absl:You are saving your model as an HDF5 file via `model.save()` or `keras.saving.save_model(model)`. This file format is considered legacy. We recommend using instead the native Keras format, e.g. `model.save('my_model.keras')` or `keras.saving.save_model(model, 'my_model.keras')`. \n"
     ]
    },
    {
     "name": "stdout",
     "output_type": "stream",
     "text": [
      "F1-Score: 0.4946\n"
     ]
    }
   ],
   "source": [
    "# cvariasi jumlah sel\n",
    "print(\"\\nTesting: Jumlah Cell LSTM\")\n",
    "lstm_cell_results = {}\n",
    "\n",
    "for num_cells in [32, 64, 128]:\n",
    "    print(f\"\\nTraining LSTM dengan {num_cells} cells...\")\n",
    "    \n",
    "    model = create_lstm_model(lstm_units=num_cells, num_lstm_layers=2, vocab_size=10000, num_classes=3)\n",
    "    history = train_lstm_model(model, rnn_train_tokens, rnn_train_labels,\n",
    "                              rnn_test_tokens, rnn_test_labels, epochs=3)\n",
    "    \n",
    "    pred = model.predict(rnn_test_tokens)\n",
    "    pred_classes = np.argmax(pred, axis=1)\n",
    "    f1 = f1_score(rnn_test_labels, pred_classes, average='macro')\n",
    "    \n",
    "    lstm_cell_results[num_cells] = {'f1': f1, 'history': history}\n",
    "    model.save(f'test_result/lstm/lstm_{num_cells}_cells.h5')\n",
    "    print(f\"F1-Score: {f1:.4f}\")"
   ]
  },
  {
   "cell_type": "code",
   "execution_count": 111,
   "id": "11b98611",
   "metadata": {},
   "outputs": [
    {
     "name": "stdout",
     "output_type": "stream",
     "text": [
      "\n",
      "Testing: Arah LSTM\n",
      "\n",
      "Training unidirectional LSTM...\n",
      "Epoch 1/3\n",
      "\u001b[1m13/13\u001b[0m \u001b[32m━━━━━━━━━━━━━━━━━━━━\u001b[0m\u001b[37m\u001b[0m \u001b[1m3s\u001b[0m 110ms/step - accuracy: 0.3867 - loss: 1.0946 - val_accuracy: 0.3500 - val_loss: 1.0802\n",
      "Epoch 2/3\n",
      "\u001b[1m13/13\u001b[0m \u001b[32m━━━━━━━━━━━━━━━━━━━━\u001b[0m\u001b[37m\u001b[0m \u001b[1m1s\u001b[0m 66ms/step - accuracy: 0.4248 - loss: 1.0470 - val_accuracy: 0.4400 - val_loss: 1.0340\n",
      "Epoch 3/3\n",
      "\u001b[1m13/13\u001b[0m \u001b[32m━━━━━━━━━━━━━━━━━━━━\u001b[0m\u001b[37m\u001b[0m \u001b[1m1s\u001b[0m 65ms/step - accuracy: 0.4471 - loss: 0.9588 - val_accuracy: 0.5500 - val_loss: 0.9878\n",
      "\u001b[1m4/4\u001b[0m \u001b[32m━━━━━━━━━━━━━━━━━━━━\u001b[0m\u001b[37m\u001b[0m \u001b[1m0s\u001b[0m 66ms/step\n"
     ]
    },
    {
     "name": "stderr",
     "output_type": "stream",
     "text": [
      "WARNING:absl:You are saving your model as an HDF5 file via `model.save()` or `keras.saving.save_model(model)`. This file format is considered legacy. We recommend using instead the native Keras format, e.g. `model.save('my_model.keras')` or `keras.saving.save_model(model, 'my_model.keras')`. \n"
     ]
    },
    {
     "name": "stdout",
     "output_type": "stream",
     "text": [
      "F1-Score: 0.4580\n",
      "\n",
      "Training bidirectional LSTM...\n",
      "Epoch 1/3\n",
      "\u001b[1m13/13\u001b[0m \u001b[32m━━━━━━━━━━━━━━━━━━━━\u001b[0m\u001b[37m\u001b[0m \u001b[1m7s\u001b[0m 119ms/step - accuracy: 0.3716 - loss: 1.0909 - val_accuracy: 0.3900 - val_loss: 1.0612\n",
      "Epoch 2/3\n",
      "\u001b[1m13/13\u001b[0m \u001b[32m━━━━━━━━━━━━━━━━━━━━\u001b[0m\u001b[37m\u001b[0m \u001b[1m1s\u001b[0m 89ms/step - accuracy: 0.4168 - loss: 1.0251 - val_accuracy: 0.4500 - val_loss: 0.9910\n",
      "Epoch 3/3\n",
      "\u001b[1m13/13\u001b[0m \u001b[32m━━━━━━━━━━━━━━━━━━━━\u001b[0m\u001b[37m\u001b[0m \u001b[1m1s\u001b[0m 88ms/step - accuracy: 0.6173 - loss: 0.8537 - val_accuracy: 0.6800 - val_loss: 0.8401\n",
      "\u001b[1m4/4\u001b[0m \u001b[32m━━━━━━━━━━━━━━━━━━━━\u001b[0m\u001b[37m\u001b[0m \u001b[1m1s\u001b[0m 123ms/step\n"
     ]
    },
    {
     "name": "stderr",
     "output_type": "stream",
     "text": [
      "WARNING:absl:You are saving your model as an HDF5 file via `model.save()` or `keras.saving.save_model(model)`. This file format is considered legacy. We recommend using instead the native Keras format, e.g. `model.save('my_model.keras')` or `keras.saving.save_model(model, 'my_model.keras')`. \n"
     ]
    },
    {
     "name": "stdout",
     "output_type": "stream",
     "text": [
      "F1-Score: 0.5769\n"
     ]
    }
   ],
   "source": [
    "# pengaruh arah\n",
    "print(\"\\nTesting: Arah LSTM\")\n",
    "lstm_direction_results = {}\n",
    "\n",
    "for bidirectional in [False, True]:\n",
    "    direction = \"bidirectional\" if bidirectional else \"unidirectional\"\n",
    "    print(f\"\\nTraining {direction} LSTM...\")\n",
    "    \n",
    "    model = create_lstm_model(lstm_units=64, num_lstm_layers=2, \n",
    "                             bidirectional=bidirectional, vocab_size=10000, num_classes=3)\n",
    "    history = train_lstm_model(model, rnn_train_tokens, rnn_train_labels,\n",
    "                              rnn_test_tokens, rnn_test_labels, epochs=3)\n",
    "    \n",
    "    pred = model.predict(rnn_test_tokens)\n",
    "    pred_classes = np.argmax(pred, axis=1)\n",
    "    f1 = f1_score(rnn_test_labels, pred_classes, average='macro')\n",
    "    \n",
    "    lstm_direction_results[direction] = {'f1': f1, 'history': history}\n",
    "    model.save(f'test_result/lstm/lstm_{direction}.h5')\n",
    "    print(f\"F1-Score: {f1:.4f}\")"
   ]
  },
  {
   "cell_type": "code",
   "execution_count": 112,
   "id": "f59507f0",
   "metadata": {},
   "outputs": [
    {
     "name": "stdout",
     "output_type": "stream",
     "text": [
      "\n",
      "Testing LSTM From Scratch Implementation\n"
     ]
    },
    {
     "name": "stderr",
     "output_type": "stream",
     "text": [
      "WARNING:absl:Compiled the loaded model, but the compiled metrics have yet to be built. `model.compile_metrics` will be empty until you train or evaluate the model.\n"
     ]
    },
    {
     "name": "stdout",
     "output_type": "stream",
     "text": [
      "Comparing LSTM Keras model performance...\n",
      "\u001b[1m4/4\u001b[0m \u001b[32m━━━━━━━━━━━━━━━━━━━━\u001b[0m\u001b[37m\u001b[0m \u001b[1m1s\u001b[0m 119ms/step\n",
      "Keras LSTM F1-Score: 0.5769\n",
      "Testing LSTM model consistency...\n",
      "\u001b[1m1/1\u001b[0m \u001b[32m━━━━━━━━━━━━━━━━━━━━\u001b[0m\u001b[37m\u001b[0m \u001b[1m0s\u001b[0m 34ms/step\n",
      "\u001b[1m1/1\u001b[0m \u001b[32m━━━━━━━━━━━━━━━━━━━━\u001b[0m\u001b[37m\u001b[0m \u001b[1m0s\u001b[0m 29ms/step\n",
      "LSTM Batch 1 predictions: [0 2 2 0 0 0 2 2 0 2]\n",
      "LSTM Batch 2 predictions: [2 2 2 0 2 0 0 2 0 0]\n",
      "Model input shape: (None, 100)\n",
      "Model output shape: (None, 3)\n",
      "Number of parameters: 1,183,683\n"
     ]
    }
   ],
   "source": [
    "print(\"\\nTesting LSTM From Scratch Implementation\")\n",
    "best_lstm_model_path = 'test_result/lstm/lstm_bidirectional.h5'\n",
    "best_lstm_model = keras.models.load_model(best_lstm_model_path)\n",
    "\n",
    "print(\"Comparing LSTM Keras model performance...\")\n",
    "keras_probs = best_lstm_model.predict(rnn_test_tokens)\n",
    "keras_preds = np.argmax(keras_probs, axis=1)\n",
    "keras_f1 = f1_score(rnn_test_labels, keras_preds, average='macro')\n",
    "\n",
    "print(f\"Keras LSTM F1-Score: {keras_f1:.4f}\")\n",
    "print(\"Testing LSTM model consistency...\")\n",
    "batch1_probs = best_lstm_model.predict(rnn_test_tokens[:10])\n",
    "batch2_probs = best_lstm_model.predict(rnn_test_tokens[10:20])\n",
    "\n",
    "batch1_preds = np.argmax(batch1_probs, axis=1)\n",
    "batch2_preds = np.argmax(batch2_probs, axis=1)\n",
    "\n",
    "print(f\"LSTM Batch 1 predictions: {batch1_preds}\")\n",
    "print(f\"LSTM Batch 2 predictions: {batch2_preds}\")\n",
    "\n",
    "print(f\"Model input shape: {best_lstm_model.input_shape}\")\n",
    "print(f\"Model output shape: {best_lstm_model.output_shape}\")\n",
    "print(f\"Number of parameters: {best_lstm_model.count_params():,}\")"
   ]
  }
 ],
 "metadata": {
  "kernelspec": {
   "display_name": "venv",
   "language": "python",
   "name": "python3"
  },
  "language_info": {
   "codemirror_mode": {
    "name": "ipython",
    "version": 3
   },
   "file_extension": ".py",
   "mimetype": "text/x-python",
   "name": "python",
   "nbconvert_exporter": "python",
   "pygments_lexer": "ipython3",
   "version": "3.9.22"
  }
 },
 "nbformat": 4,
 "nbformat_minor": 5
}
